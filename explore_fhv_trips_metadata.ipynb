{
 "cells": [
  {
   "cell_type": "markdown",
   "id": "af29406c-c288-4dcd-965f-ef2bc80d346d",
   "metadata": {},
   "source": [
    "# NYC-TLC For-Hire Vehicle (\"FHV\") Trip Metadata Exploration"
   ]
  },
  {
   "cell_type": "markdown",
   "id": "c9c6b72f-6805-46b2-9e5f-814f6b7af484",
   "metadata": {},
   "source": [
    "## Introduction"
   ]
  },
  {
   "cell_type": "markdown",
   "id": "b076982c-f71c-487a-b1f0-41b42ba8ec04",
   "metadata": {},
   "source": [
    "This notebook explore files metadata of [NYC Taxi and Limousine Commission For-Hire Vehicle (\"FHV\") Trip Record Data](https://www.nyc.gov/site/tlc/about/tlc-trip-record-data.page). It may also be used as a base to inform which For-Hire Vehicle (\"FHV\") trip data files to download and use when perform a specific analysis."
   ]
  },
  {
   "cell_type": "markdown",
   "id": "08ee9e52-c382-47a8-8a9b-011bb7b78c3b",
   "metadata": {},
   "source": [
    "### Data Dictionary"
   ]
  },
  {
   "cell_type": "markdown",
   "id": "3b288507-7bc8-4267-afc4-6293f1860beb",
   "metadata": {},
   "source": [
    "Check [Data Dictionary – For-Hire Vehicle (\"FHV\") Taxi Trip Records](https://www.nyc.gov/assets/tlc/downloads/pdf/data_dictionary_trip_records_fhv.pdf)"
   ]
  },
  {
   "cell_type": "markdown",
   "id": "70dddc65-f6c5-49da-801e-3e28e85dcddf",
   "metadata": {},
   "source": [
    "## Extracting the Data"
   ]
  },
  {
   "cell_type": "markdown",
   "id": "75b5cc10-6250-46d4-b9ed-55ac59bfa2ee",
   "metadata": {},
   "source": [
    "Change `year` to extract (or update) metadata"
   ]
  },
  {
   "cell_type": "code",
   "execution_count": 1,
   "id": "7c649616-efd2-45b1-82b2-5983c72bd43f",
   "metadata": {},
   "outputs": [],
   "source": [
    "# !python extract_trips_metadata.py -s web -t fhv -y 2024"
   ]
  },
  {
   "cell_type": "markdown",
   "id": "b21d8dff-e07b-407b-a83c-1e54f81d1d53",
   "metadata": {},
   "source": [
    "## Loading the Data"
   ]
  },
  {
   "cell_type": "markdown",
   "id": "a6b6c45b-8ee3-4974-a42d-e4d146041c6b",
   "metadata": {},
   "source": [
    "### Import libraries"
   ]
  },
  {
   "cell_type": "code",
   "execution_count": 2,
   "id": "8bcc7283-e972-4033-bf3b-79e7d6e59a4d",
   "metadata": {},
   "outputs": [],
   "source": [
    "import glob\n",
    "import matplotlib.pyplot as plt\n",
    "import pyarrow as pa\n",
    "import pandas as pd\n",
    "\n",
    "from conf import DATASET_LOCAL_METADATA_PATH"
   ]
  },
  {
   "cell_type": "markdown",
   "id": "6aba2361-6ef9-4307-9643-d43379738737",
   "metadata": {},
   "source": [
    "### Load the data"
   ]
  },
  {
   "cell_type": "code",
   "execution_count": 3,
   "id": "a7afc203-6f15-4afb-a1c8-01a0e863a8cd",
   "metadata": {},
   "outputs": [],
   "source": [
    "METADATA_FILES = glob.glob(f\"{DATASET_LOCAL_METADATA_PATH}/fhv_tripmetadata_*.csv\")"
   ]
  },
  {
   "cell_type": "code",
   "execution_count": 4,
   "id": "77adbd06-499c-433d-8888-7a533970e2a4",
   "metadata": {},
   "outputs": [],
   "source": [
    "df = pd.concat([pd.read_csv(file) for file in METADATA_FILES], ignore_index=True)"
   ]
  },
  {
   "cell_type": "markdown",
   "id": "491e691e-2c4b-4370-b7ec-8c77de0eb16d",
   "metadata": {},
   "source": [
    "### Print data summary"
   ]
  },
  {
   "cell_type": "code",
   "execution_count": 5,
   "id": "a4b6dcf1-7479-4cdf-a13b-d907db084cab",
   "metadata": {},
   "outputs": [
    {
     "name": "stdout",
     "output_type": "stream",
     "text": [
      "<class 'pandas.core.frame.DataFrame'>\n",
      "RangeIndex: 113 entries, 0 to 112\n",
      "Data columns (total 14 columns):\n",
      " #   Column                  Non-Null Count  Dtype  \n",
      "---  ------                  --------------  -----  \n",
      " 0   file_name               113 non-null    object \n",
      " 1   file_s3_url             113 non-null    object \n",
      " 2   file_cloudfront_url     113 non-null    object \n",
      " 3   file_record_type        113 non-null    object \n",
      " 4   file_year               113 non-null    int64  \n",
      " 5   file_month              113 non-null    int64  \n",
      " 6   file_modification_time  113 non-null    object \n",
      " 7   file_num_rows           113 non-null    int64  \n",
      " 8   file_num_columns        113 non-null    int64  \n",
      " 9   file_column_names       113 non-null    object \n",
      " 10  file_size_bytes         113 non-null    int64  \n",
      " 11  file_size_mbs           113 non-null    float64\n",
      " 12  file_size_gbs           113 non-null    float64\n",
      " 13  file_metadata_source    113 non-null    object \n",
      "dtypes: float64(2), int64(5), object(7)\n",
      "memory usage: 12.5+ KB\n"
     ]
    }
   ],
   "source": [
    "df.info()"
   ]
  },
  {
   "cell_type": "markdown",
   "id": "3bbe226d-b13b-464e-a37b-ece022957ab1",
   "metadata": {},
   "source": [
    "## Exploring the Data"
   ]
  },
  {
   "cell_type": "markdown",
   "id": "43ebd50f-3095-465f-82e4-746cb5f929eb",
   "metadata": {},
   "source": [
    "### What is the total number of all records (rows)?"
   ]
  },
  {
   "cell_type": "code",
   "execution_count": 6,
   "id": "0b3ff0f3-21f1-4949-8788-be60f8a8e5a6",
   "metadata": {},
   "outputs": [
    {
     "name": "stdout",
     "output_type": "stream",
     "text": [
      "758,801,924 records.\n"
     ]
    }
   ],
   "source": [
    "print(\"{:,d} records.\".format(df[\"file_num_rows\"].sum()))"
   ]
  },
  {
   "cell_type": "markdown",
   "id": "4a8493f2-11c3-4f97-b3b0-1f392b985477",
   "metadata": {},
   "source": [
    "### What is the total compressed size (GBs) of all records?"
   ]
  },
  {
   "cell_type": "code",
   "execution_count": 7,
   "id": "5959dcce-0e08-44ee-85f9-66968699792c",
   "metadata": {},
   "outputs": [
    {
     "name": "stdout",
     "output_type": "stream",
     "text": [
      "5.2644 GBs.\n"
     ]
    }
   ],
   "source": [
    "print(\"{:,.4f} GBs.\".format(df[\"file_size_gbs\"].sum()))"
   ]
  },
  {
   "cell_type": "markdown",
   "id": "718121bb-5b00-49cc-b49e-1b08882df643",
   "metadata": {},
   "source": [
    "### Which years are covered by all records?"
   ]
  },
  {
   "cell_type": "code",
   "execution_count": 8,
   "id": "8f26ff01-9bc3-468e-90db-498c6c33249f",
   "metadata": {},
   "outputs": [
    {
     "data": {
      "text/html": [
       "<div>\n",
       "<style scoped>\n",
       "    .dataframe tbody tr th:only-of-type {\n",
       "        vertical-align: middle;\n",
       "    }\n",
       "\n",
       "    .dataframe tbody tr th {\n",
       "        vertical-align: top;\n",
       "    }\n",
       "\n",
       "    .dataframe thead th {\n",
       "        text-align: right;\n",
       "    }\n",
       "</style>\n",
       "<table border=\"1\" class=\"dataframe\">\n",
       "  <thead>\n",
       "    <tr style=\"text-align: right;\">\n",
       "      <th></th>\n",
       "      <th>file_year</th>\n",
       "    </tr>\n",
       "  </thead>\n",
       "  <tbody>\n",
       "    <tr>\n",
       "      <th>0</th>\n",
       "      <td>2015</td>\n",
       "    </tr>\n",
       "    <tr>\n",
       "      <th>1</th>\n",
       "      <td>2016</td>\n",
       "    </tr>\n",
       "    <tr>\n",
       "      <th>2</th>\n",
       "      <td>2017</td>\n",
       "    </tr>\n",
       "    <tr>\n",
       "      <th>3</th>\n",
       "      <td>2018</td>\n",
       "    </tr>\n",
       "    <tr>\n",
       "      <th>4</th>\n",
       "      <td>2019</td>\n",
       "    </tr>\n",
       "    <tr>\n",
       "      <th>5</th>\n",
       "      <td>2020</td>\n",
       "    </tr>\n",
       "    <tr>\n",
       "      <th>6</th>\n",
       "      <td>2021</td>\n",
       "    </tr>\n",
       "    <tr>\n",
       "      <th>7</th>\n",
       "      <td>2022</td>\n",
       "    </tr>\n",
       "    <tr>\n",
       "      <th>8</th>\n",
       "      <td>2023</td>\n",
       "    </tr>\n",
       "    <tr>\n",
       "      <th>9</th>\n",
       "      <td>2024</td>\n",
       "    </tr>\n",
       "  </tbody>\n",
       "</table>\n",
       "</div>"
      ],
      "text/plain": [
       "   file_year\n",
       "0       2015\n",
       "1       2016\n",
       "2       2017\n",
       "3       2018\n",
       "4       2019\n",
       "5       2020\n",
       "6       2021\n",
       "7       2022\n",
       "8       2023\n",
       "9       2024"
      ]
     },
     "execution_count": 8,
     "metadata": {},
     "output_type": "execute_result"
    }
   ],
   "source": [
    "pd.DataFrame({\"file_year\": sorted(df[\"file_year\"].unique())})"
   ]
  },
  {
   "cell_type": "markdown",
   "id": "51b5a5ca-9ac5-437c-813f-2059830ae209",
   "metadata": {},
   "source": [
    "### What is the total number of records (rows) per each year?"
   ]
  },
  {
   "cell_type": "code",
   "execution_count": 9,
   "id": "c0af5722-971b-4103-9bb3-3e5c9e5f3375",
   "metadata": {},
   "outputs": [
    {
     "data": {
      "text/html": [
       "<div>\n",
       "<style scoped>\n",
       "    .dataframe tbody tr th:only-of-type {\n",
       "        vertical-align: middle;\n",
       "    }\n",
       "\n",
       "    .dataframe tbody tr th {\n",
       "        vertical-align: top;\n",
       "    }\n",
       "\n",
       "    .dataframe thead th {\n",
       "        text-align: right;\n",
       "    }\n",
       "</style>\n",
       "<table border=\"1\" class=\"dataframe\">\n",
       "  <thead>\n",
       "    <tr style=\"text-align: right;\">\n",
       "      <th></th>\n",
       "      <th>file_year</th>\n",
       "      <th>file_num_rows</th>\n",
       "    </tr>\n",
       "  </thead>\n",
       "  <tbody>\n",
       "    <tr>\n",
       "      <th>3</th>\n",
       "      <td>2018</td>\n",
       "      <td>260,874,753</td>\n",
       "    </tr>\n",
       "    <tr>\n",
       "      <th>2</th>\n",
       "      <td>2017</td>\n",
       "      <td>192,309,558</td>\n",
       "    </tr>\n",
       "    <tr>\n",
       "      <th>1</th>\n",
       "      <td>2016</td>\n",
       "      <td>132,114,083</td>\n",
       "    </tr>\n",
       "    <tr>\n",
       "      <th>0</th>\n",
       "      <td>2015</td>\n",
       "      <td>63,388,532</td>\n",
       "    </tr>\n",
       "    <tr>\n",
       "      <th>4</th>\n",
       "      <td>2019</td>\n",
       "      <td>43,261,276</td>\n",
       "    </tr>\n",
       "    <tr>\n",
       "      <th>8</th>\n",
       "      <td>2023</td>\n",
       "      <td>15,858,639</td>\n",
       "    </tr>\n",
       "    <tr>\n",
       "      <th>5</th>\n",
       "      <td>2020</td>\n",
       "      <td>14,945,465</td>\n",
       "    </tr>\n",
       "    <tr>\n",
       "      <th>6</th>\n",
       "      <td>2021</td>\n",
       "      <td>14,805,265</td>\n",
       "    </tr>\n",
       "    <tr>\n",
       "      <th>7</th>\n",
       "      <td>2022</td>\n",
       "      <td>14,511,664</td>\n",
       "    </tr>\n",
       "    <tr>\n",
       "      <th>9</th>\n",
       "      <td>2024</td>\n",
       "      <td>6,732,689</td>\n",
       "    </tr>\n",
       "  </tbody>\n",
       "</table>\n",
       "</div>"
      ],
      "text/plain": [
       "   file_year file_num_rows\n",
       "3       2018   260,874,753\n",
       "2       2017   192,309,558\n",
       "1       2016   132,114,083\n",
       "0       2015    63,388,532\n",
       "4       2019    43,261,276\n",
       "8       2023    15,858,639\n",
       "5       2020    14,945,465\n",
       "6       2021    14,805,265\n",
       "7       2022    14,511,664\n",
       "9       2024     6,732,689"
      ]
     },
     "execution_count": 9,
     "metadata": {},
     "output_type": "execute_result"
    }
   ],
   "source": [
    "df2 = df[[\"file_year\", \"file_num_rows\"]].groupby(by=\"file_year\").sum()\n",
    "df2 = df2.reset_index()\n",
    "df2 = df2.sort_values(by=\"file_num_rows\", ascending=False)\n",
    "df2[\"file_num_rows\"] = df2[\"file_num_rows\"].apply(lambda x: \"{:,d}\".format(x))\n",
    "df2"
   ]
  },
  {
   "cell_type": "markdown",
   "id": "147f4d89-0bbf-4965-96a8-7a81ccac061a",
   "metadata": {},
   "source": [
    "### What is the total compressed size (GBs) of records per each year?"
   ]
  },
  {
   "cell_type": "code",
   "execution_count": 10,
   "id": "d70e02ce-fc2d-48f5-9cca-0641158d5917",
   "metadata": {},
   "outputs": [
    {
     "data": {
      "text/html": [
       "<div>\n",
       "<style scoped>\n",
       "    .dataframe tbody tr th:only-of-type {\n",
       "        vertical-align: middle;\n",
       "    }\n",
       "\n",
       "    .dataframe tbody tr th {\n",
       "        vertical-align: top;\n",
       "    }\n",
       "\n",
       "    .dataframe thead th {\n",
       "        text-align: right;\n",
       "    }\n",
       "</style>\n",
       "<table border=\"1\" class=\"dataframe\">\n",
       "  <thead>\n",
       "    <tr style=\"text-align: right;\">\n",
       "      <th></th>\n",
       "      <th>file_year</th>\n",
       "      <th>file_size_gbs</th>\n",
       "    </tr>\n",
       "  </thead>\n",
       "  <tbody>\n",
       "    <tr>\n",
       "      <th>3</th>\n",
       "      <td>2018</td>\n",
       "      <td>2.2087</td>\n",
       "    </tr>\n",
       "    <tr>\n",
       "      <th>2</th>\n",
       "      <td>2017</td>\n",
       "      <td>1.3022</td>\n",
       "    </tr>\n",
       "    <tr>\n",
       "      <th>1</th>\n",
       "      <td>2016</td>\n",
       "      <td>0.5031</td>\n",
       "    </tr>\n",
       "    <tr>\n",
       "      <th>4</th>\n",
       "      <td>2019</td>\n",
       "      <td>0.3685</td>\n",
       "    </tr>\n",
       "    <tr>\n",
       "      <th>0</th>\n",
       "      <td>2015</td>\n",
       "      <td>0.2221</td>\n",
       "    </tr>\n",
       "    <tr>\n",
       "      <th>8</th>\n",
       "      <td>2023</td>\n",
       "      <td>0.1686</td>\n",
       "    </tr>\n",
       "    <tr>\n",
       "      <th>5</th>\n",
       "      <td>2020</td>\n",
       "      <td>0.1417</td>\n",
       "    </tr>\n",
       "    <tr>\n",
       "      <th>6</th>\n",
       "      <td>2021</td>\n",
       "      <td>0.1400</td>\n",
       "    </tr>\n",
       "    <tr>\n",
       "      <th>7</th>\n",
       "      <td>2022</td>\n",
       "      <td>0.1371</td>\n",
       "    </tr>\n",
       "    <tr>\n",
       "      <th>9</th>\n",
       "      <td>2024</td>\n",
       "      <td>0.0725</td>\n",
       "    </tr>\n",
       "  </tbody>\n",
       "</table>\n",
       "</div>"
      ],
      "text/plain": [
       "   file_year file_size_gbs\n",
       "3       2018        2.2087\n",
       "2       2017        1.3022\n",
       "1       2016        0.5031\n",
       "4       2019        0.3685\n",
       "0       2015        0.2221\n",
       "8       2023        0.1686\n",
       "5       2020        0.1417\n",
       "6       2021        0.1400\n",
       "7       2022        0.1371\n",
       "9       2024        0.0725"
      ]
     },
     "execution_count": 10,
     "metadata": {},
     "output_type": "execute_result"
    }
   ],
   "source": [
    "df3 = df[[\"file_year\", \"file_size_gbs\"]].groupby(by=\"file_year\").sum()\n",
    "df3 = df3.reset_index()\n",
    "df3 = df3.sort_values(by=\"file_size_gbs\", ascending=False)\n",
    "df3[\"file_size_gbs\"] = df3[\"file_size_gbs\"].apply(lambda x: \"{:,.4f}\".format(x))\n",
    "df3"
   ]
  },
  {
   "cell_type": "markdown",
   "id": "f8780662-329c-4111-8604-8e831e13e076",
   "metadata": {},
   "source": [
    "### Describe files compressed sizes (MBs)?"
   ]
  },
  {
   "cell_type": "code",
   "execution_count": 11,
   "id": "6bfaf535-8f12-4d04-9595-7446e86ae7bb",
   "metadata": {},
   "outputs": [
    {
     "data": {
      "text/html": [
       "<div>\n",
       "<style scoped>\n",
       "    .dataframe tbody tr th:only-of-type {\n",
       "        vertical-align: middle;\n",
       "    }\n",
       "\n",
       "    .dataframe tbody tr th {\n",
       "        vertical-align: top;\n",
       "    }\n",
       "\n",
       "    .dataframe thead th {\n",
       "        text-align: right;\n",
       "    }\n",
       "</style>\n",
       "<table border=\"1\" class=\"dataframe\">\n",
       "  <thead>\n",
       "    <tr style=\"text-align: right;\">\n",
       "      <th></th>\n",
       "      <th>count</th>\n",
       "      <th>mean</th>\n",
       "      <th>std</th>\n",
       "      <th>min</th>\n",
       "      <th>25%</th>\n",
       "      <th>50%</th>\n",
       "      <th>75%</th>\n",
       "      <th>max</th>\n",
       "    </tr>\n",
       "  </thead>\n",
       "  <tbody>\n",
       "    <tr>\n",
       "      <th>file_size_mbs</th>\n",
       "      <td>113.0</td>\n",
       "      <td>47.706138</td>\n",
       "      <td>61.455682</td>\n",
       "      <td>6.187413</td>\n",
       "      <td>12.08057</td>\n",
       "      <td>15.750369</td>\n",
       "      <td>46.808203</td>\n",
       "      <td>206.910898</td>\n",
       "    </tr>\n",
       "  </tbody>\n",
       "</table>\n",
       "</div>"
      ],
      "text/plain": [
       "               count       mean        std       min       25%        50%  \\\n",
       "file_size_mbs  113.0  47.706138  61.455682  6.187413  12.08057  15.750369   \n",
       "\n",
       "                     75%         max  \n",
       "file_size_mbs  46.808203  206.910898  "
      ]
     },
     "execution_count": 11,
     "metadata": {},
     "output_type": "execute_result"
    }
   ],
   "source": [
    "df[[\"file_size_mbs\"]].describe().T"
   ]
  },
  {
   "cell_type": "markdown",
   "id": "97de5176-66ed-48bc-b8a9-56545e4590fc",
   "metadata": {},
   "source": [
    "### Which files have largest compressed sizes (MBs)?"
   ]
  },
  {
   "cell_type": "code",
   "execution_count": 12,
   "id": "e59d2a6f-3fc4-4b5f-bfe6-ba184760ee92",
   "metadata": {},
   "outputs": [
    {
     "data": {
      "text/html": [
       "<div>\n",
       "<style scoped>\n",
       "    .dataframe tbody tr th:only-of-type {\n",
       "        vertical-align: middle;\n",
       "    }\n",
       "\n",
       "    .dataframe tbody tr th {\n",
       "        vertical-align: top;\n",
       "    }\n",
       "\n",
       "    .dataframe thead th {\n",
       "        text-align: right;\n",
       "    }\n",
       "</style>\n",
       "<table border=\"1\" class=\"dataframe\">\n",
       "  <thead>\n",
       "    <tr style=\"text-align: right;\">\n",
       "      <th></th>\n",
       "      <th>file_name</th>\n",
       "      <th>file_size_mbs</th>\n",
       "    </tr>\n",
       "  </thead>\n",
       "  <tbody>\n",
       "    <tr>\n",
       "      <th>40</th>\n",
       "      <td>fhv_tripdata_2018-12.parquet</td>\n",
       "      <td>206.910898</td>\n",
       "    </tr>\n",
       "    <tr>\n",
       "      <th>38</th>\n",
       "      <td>fhv_tripdata_2018-10.parquet</td>\n",
       "      <td>202.694967</td>\n",
       "    </tr>\n",
       "    <tr>\n",
       "      <th>5</th>\n",
       "      <td>fhv_tripdata_2019-01.parquet</td>\n",
       "      <td>200.946259</td>\n",
       "    </tr>\n",
       "    <tr>\n",
       "      <th>39</th>\n",
       "      <td>fhv_tripdata_2018-11.parquet</td>\n",
       "      <td>198.895775</td>\n",
       "    </tr>\n",
       "    <tr>\n",
       "      <th>36</th>\n",
       "      <td>fhv_tripdata_2018-08.parquet</td>\n",
       "      <td>192.433067</td>\n",
       "    </tr>\n",
       "    <tr>\n",
       "      <th>37</th>\n",
       "      <td>fhv_tripdata_2018-09.parquet</td>\n",
       "      <td>192.115993</td>\n",
       "    </tr>\n",
       "    <tr>\n",
       "      <th>31</th>\n",
       "      <td>fhv_tripdata_2018-03.parquet</td>\n",
       "      <td>188.931273</td>\n",
       "    </tr>\n",
       "    <tr>\n",
       "      <th>35</th>\n",
       "      <td>fhv_tripdata_2018-07.parquet</td>\n",
       "      <td>188.241599</td>\n",
       "    </tr>\n",
       "    <tr>\n",
       "      <th>33</th>\n",
       "      <td>fhv_tripdata_2018-05.parquet</td>\n",
       "      <td>187.223758</td>\n",
       "    </tr>\n",
       "    <tr>\n",
       "      <th>34</th>\n",
       "      <td>fhv_tripdata_2018-06.parquet</td>\n",
       "      <td>183.044876</td>\n",
       "    </tr>\n",
       "  </tbody>\n",
       "</table>\n",
       "</div>"
      ],
      "text/plain": [
       "                       file_name  file_size_mbs\n",
       "40  fhv_tripdata_2018-12.parquet     206.910898\n",
       "38  fhv_tripdata_2018-10.parquet     202.694967\n",
       "5   fhv_tripdata_2019-01.parquet     200.946259\n",
       "39  fhv_tripdata_2018-11.parquet     198.895775\n",
       "36  fhv_tripdata_2018-08.parquet     192.433067\n",
       "37  fhv_tripdata_2018-09.parquet     192.115993\n",
       "31  fhv_tripdata_2018-03.parquet     188.931273\n",
       "35  fhv_tripdata_2018-07.parquet     188.241599\n",
       "33  fhv_tripdata_2018-05.parquet     187.223758\n",
       "34  fhv_tripdata_2018-06.parquet     183.044876"
      ]
     },
     "execution_count": 12,
     "metadata": {},
     "output_type": "execute_result"
    }
   ],
   "source": [
    "df5 = df[[\"file_name\", \"file_size_mbs\"]]\n",
    "df5 = df5.sort_values(by=\"file_size_mbs\", ascending=False)\n",
    "df5.head(n=10)"
   ]
  },
  {
   "cell_type": "markdown",
   "id": "78b08ae1-2b0d-44f4-9c5f-fe4f13729094",
   "metadata": {},
   "source": [
    "### Which files have smallest compressed sizes (MBs)?"
   ]
  },
  {
   "cell_type": "code",
   "execution_count": 13,
   "id": "2cef6394-b248-4f19-9072-6fc08f5e82f3",
   "metadata": {},
   "outputs": [
    {
     "data": {
      "text/html": [
       "<div>\n",
       "<style scoped>\n",
       "    .dataframe tbody tr th:only-of-type {\n",
       "        vertical-align: middle;\n",
       "    }\n",
       "\n",
       "    .dataframe tbody tr th {\n",
       "        vertical-align: top;\n",
       "    }\n",
       "\n",
       "    .dataframe thead th {\n",
       "        text-align: right;\n",
       "    }\n",
       "</style>\n",
       "<table border=\"1\" class=\"dataframe\">\n",
       "  <thead>\n",
       "    <tr style=\"text-align: right;\">\n",
       "      <th></th>\n",
       "      <th>file_name</th>\n",
       "      <th>file_size_mbs</th>\n",
       "    </tr>\n",
       "  </thead>\n",
       "  <tbody>\n",
       "    <tr>\n",
       "      <th>20</th>\n",
       "      <td>fhv_tripdata_2020-04.parquet</td>\n",
       "      <td>6.187413</td>\n",
       "    </tr>\n",
       "    <tr>\n",
       "      <th>21</th>\n",
       "      <td>fhv_tripdata_2020-05.parquet</td>\n",
       "      <td>8.070605</td>\n",
       "    </tr>\n",
       "    <tr>\n",
       "      <th>55</th>\n",
       "      <td>fhv_tripdata_2015-03.parquet</td>\n",
       "      <td>8.628676</td>\n",
       "    </tr>\n",
       "    <tr>\n",
       "      <th>42</th>\n",
       "      <td>fhv_tripdata_2021-02.parquet</td>\n",
       "      <td>10.152308</td>\n",
       "    </tr>\n",
       "    <tr>\n",
       "      <th>22</th>\n",
       "      <td>fhv_tripdata_2020-06.parquet</td>\n",
       "      <td>10.163461</td>\n",
       "    </tr>\n",
       "    <tr>\n",
       "      <th>56</th>\n",
       "      <td>fhv_tripdata_2015-04.parquet</td>\n",
       "      <td>10.263732</td>\n",
       "    </tr>\n",
       "    <tr>\n",
       "      <th>111</th>\n",
       "      <td>fhv_tripdata_2022-11.parquet</td>\n",
       "      <td>10.775536</td>\n",
       "    </tr>\n",
       "    <tr>\n",
       "      <th>77</th>\n",
       "      <td>fhv_tripdata_2023-01.parquet</td>\n",
       "      <td>10.785082</td>\n",
       "    </tr>\n",
       "    <tr>\n",
       "      <th>101</th>\n",
       "      <td>fhv_tripdata_2022-01.parquet</td>\n",
       "      <td>11.122918</td>\n",
       "    </tr>\n",
       "    <tr>\n",
       "      <th>23</th>\n",
       "      <td>fhv_tripdata_2020-07.parquet</td>\n",
       "      <td>11.197661</td>\n",
       "    </tr>\n",
       "  </tbody>\n",
       "</table>\n",
       "</div>"
      ],
      "text/plain": [
       "                        file_name  file_size_mbs\n",
       "20   fhv_tripdata_2020-04.parquet       6.187413\n",
       "21   fhv_tripdata_2020-05.parquet       8.070605\n",
       "55   fhv_tripdata_2015-03.parquet       8.628676\n",
       "42   fhv_tripdata_2021-02.parquet      10.152308\n",
       "22   fhv_tripdata_2020-06.parquet      10.163461\n",
       "56   fhv_tripdata_2015-04.parquet      10.263732\n",
       "111  fhv_tripdata_2022-11.parquet      10.775536\n",
       "77   fhv_tripdata_2023-01.parquet      10.785082\n",
       "101  fhv_tripdata_2022-01.parquet      11.122918\n",
       "23   fhv_tripdata_2020-07.parquet      11.197661"
      ]
     },
     "execution_count": 13,
     "metadata": {},
     "output_type": "execute_result"
    }
   ],
   "source": [
    "df6 = df[[\"file_name\", \"file_size_mbs\"]]\n",
    "df6 = df6.sort_values(by=\"file_size_mbs\", ascending=True)\n",
    "df6.head(n=10)"
   ]
  },
  {
   "cell_type": "markdown",
   "id": "02dba8e4-964d-47ff-8693-4c5120cc18e5",
   "metadata": {},
   "source": [
    "### Describe files number of records (rows)?"
   ]
  },
  {
   "cell_type": "code",
   "execution_count": 14,
   "id": "a20e9196-a34e-4ff2-a843-65f3c80060f7",
   "metadata": {},
   "outputs": [
    {
     "data": {
      "text/html": [
       "<div>\n",
       "<style scoped>\n",
       "    .dataframe tbody tr th:only-of-type {\n",
       "        vertical-align: middle;\n",
       "    }\n",
       "\n",
       "    .dataframe tbody tr th {\n",
       "        vertical-align: top;\n",
       "    }\n",
       "\n",
       "    .dataframe thead th {\n",
       "        text-align: right;\n",
       "    }\n",
       "</style>\n",
       "<table border=\"1\" class=\"dataframe\">\n",
       "  <thead>\n",
       "    <tr style=\"text-align: right;\">\n",
       "      <th></th>\n",
       "      <th>count</th>\n",
       "      <th>mean</th>\n",
       "      <th>std</th>\n",
       "      <th>min</th>\n",
       "      <th>25%</th>\n",
       "      <th>50%</th>\n",
       "      <th>75%</th>\n",
       "      <th>max</th>\n",
       "    </tr>\n",
       "  </thead>\n",
       "  <tbody>\n",
       "    <tr>\n",
       "      <th>file_num_rows</th>\n",
       "      <td>113.0</td>\n",
       "      <td>6.715061e+06</td>\n",
       "      <td>7.468261e+06</td>\n",
       "      <td>566426.0</td>\n",
       "      <td>1254734.0</td>\n",
       "      <td>1897856.0</td>\n",
       "      <td>11759658.0</td>\n",
       "      <td>23904082.0</td>\n",
       "    </tr>\n",
       "  </tbody>\n",
       "</table>\n",
       "</div>"
      ],
      "text/plain": [
       "               count          mean           std       min        25%  \\\n",
       "file_num_rows  113.0  6.715061e+06  7.468261e+06  566426.0  1254734.0   \n",
       "\n",
       "                     50%         75%         max  \n",
       "file_num_rows  1897856.0  11759658.0  23904082.0  "
      ]
     },
     "execution_count": 14,
     "metadata": {},
     "output_type": "execute_result"
    }
   ],
   "source": [
    "df[[\"file_num_rows\"]].describe().T"
   ]
  },
  {
   "cell_type": "markdown",
   "id": "25864aee-017e-48d8-8f30-ba9b8a9774d1",
   "metadata": {},
   "source": [
    "### Which files have largest number of records (rows)?"
   ]
  },
  {
   "cell_type": "code",
   "execution_count": 15,
   "id": "31492964-0f8a-4801-9c57-2c889d93f6df",
   "metadata": {},
   "outputs": [
    {
     "data": {
      "text/html": [
       "<div>\n",
       "<style scoped>\n",
       "    .dataframe tbody tr th:only-of-type {\n",
       "        vertical-align: middle;\n",
       "    }\n",
       "\n",
       "    .dataframe tbody tr th {\n",
       "        vertical-align: top;\n",
       "    }\n",
       "\n",
       "    .dataframe thead th {\n",
       "        text-align: right;\n",
       "    }\n",
       "</style>\n",
       "<table border=\"1\" class=\"dataframe\">\n",
       "  <thead>\n",
       "    <tr style=\"text-align: right;\">\n",
       "      <th></th>\n",
       "      <th>file_name</th>\n",
       "      <th>file_num_rows</th>\n",
       "    </tr>\n",
       "  </thead>\n",
       "  <tbody>\n",
       "    <tr>\n",
       "      <th>40</th>\n",
       "      <td>fhv_tripdata_2018-12.parquet</td>\n",
       "      <td>23,904,082</td>\n",
       "    </tr>\n",
       "    <tr>\n",
       "      <th>38</th>\n",
       "      <td>fhv_tripdata_2018-10.parquet</td>\n",
       "      <td>23,289,768</td>\n",
       "    </tr>\n",
       "    <tr>\n",
       "      <th>5</th>\n",
       "      <td>fhv_tripdata_2019-01.parquet</td>\n",
       "      <td>23,159,064</td>\n",
       "    </tr>\n",
       "    <tr>\n",
       "      <th>39</th>\n",
       "      <td>fhv_tripdata_2018-11.parquet</td>\n",
       "      <td>22,911,479</td>\n",
       "    </tr>\n",
       "    <tr>\n",
       "      <th>37</th>\n",
       "      <td>fhv_tripdata_2018-09.parquet</td>\n",
       "      <td>22,151,736</td>\n",
       "    </tr>\n",
       "    <tr>\n",
       "      <th>36</th>\n",
       "      <td>fhv_tripdata_2018-08.parquet</td>\n",
       "      <td>22,120,593</td>\n",
       "    </tr>\n",
       "    <tr>\n",
       "      <th>31</th>\n",
       "      <td>fhv_tripdata_2018-03.parquet</td>\n",
       "      <td>21,985,270</td>\n",
       "    </tr>\n",
       "    <tr>\n",
       "      <th>35</th>\n",
       "      <td>fhv_tripdata_2018-07.parquet</td>\n",
       "      <td>21,599,714</td>\n",
       "    </tr>\n",
       "    <tr>\n",
       "      <th>33</th>\n",
       "      <td>fhv_tripdata_2018-05.parquet</td>\n",
       "      <td>21,565,752</td>\n",
       "    </tr>\n",
       "    <tr>\n",
       "      <th>34</th>\n",
       "      <td>fhv_tripdata_2018-06.parquet</td>\n",
       "      <td>21,137,951</td>\n",
       "    </tr>\n",
       "  </tbody>\n",
       "</table>\n",
       "</div>"
      ],
      "text/plain": [
       "                       file_name file_num_rows\n",
       "40  fhv_tripdata_2018-12.parquet    23,904,082\n",
       "38  fhv_tripdata_2018-10.parquet    23,289,768\n",
       "5   fhv_tripdata_2019-01.parquet    23,159,064\n",
       "39  fhv_tripdata_2018-11.parquet    22,911,479\n",
       "37  fhv_tripdata_2018-09.parquet    22,151,736\n",
       "36  fhv_tripdata_2018-08.parquet    22,120,593\n",
       "31  fhv_tripdata_2018-03.parquet    21,985,270\n",
       "35  fhv_tripdata_2018-07.parquet    21,599,714\n",
       "33  fhv_tripdata_2018-05.parquet    21,565,752\n",
       "34  fhv_tripdata_2018-06.parquet    21,137,951"
      ]
     },
     "execution_count": 15,
     "metadata": {},
     "output_type": "execute_result"
    }
   ],
   "source": [
    "df7 = df[[\"file_name\", \"file_num_rows\"]]\n",
    "df7 = df7.sort_values(by=\"file_num_rows\", ascending=False)\n",
    "df7[\"file_num_rows\"] = df7[\"file_num_rows\"].apply(lambda x: \"{:,d}\".format(x))\n",
    "df7.head(n=10)"
   ]
  },
  {
   "cell_type": "markdown",
   "id": "903ce3a2-c22c-4ef7-a2eb-f80f169cfc73",
   "metadata": {},
   "source": [
    "### Which files have smallest number of records (rows)?"
   ]
  },
  {
   "cell_type": "code",
   "execution_count": 16,
   "id": "a1b38eb6-91aa-4618-921e-aee776897625",
   "metadata": {},
   "outputs": [
    {
     "data": {
      "text/html": [
       "<div>\n",
       "<style scoped>\n",
       "    .dataframe tbody tr th:only-of-type {\n",
       "        vertical-align: middle;\n",
       "    }\n",
       "\n",
       "    .dataframe tbody tr th {\n",
       "        vertical-align: top;\n",
       "    }\n",
       "\n",
       "    .dataframe thead th {\n",
       "        text-align: right;\n",
       "    }\n",
       "</style>\n",
       "<table border=\"1\" class=\"dataframe\">\n",
       "  <thead>\n",
       "    <tr style=\"text-align: right;\">\n",
       "      <th></th>\n",
       "      <th>file_name</th>\n",
       "      <th>file_num_rows</th>\n",
       "    </tr>\n",
       "  </thead>\n",
       "  <tbody>\n",
       "    <tr>\n",
       "      <th>20</th>\n",
       "      <td>fhv_tripdata_2020-04.parquet</td>\n",
       "      <td>566,426</td>\n",
       "    </tr>\n",
       "    <tr>\n",
       "      <th>21</th>\n",
       "      <td>fhv_tripdata_2020-05.parquet</td>\n",
       "      <td>774,970</td>\n",
       "    </tr>\n",
       "    <tr>\n",
       "      <th>22</th>\n",
       "      <td>fhv_tripdata_2020-06.parquet</td>\n",
       "      <td>1,011,867</td>\n",
       "    </tr>\n",
       "    <tr>\n",
       "      <th>42</th>\n",
       "      <td>fhv_tripdata_2021-02.parquet</td>\n",
       "      <td>1,037,692</td>\n",
       "    </tr>\n",
       "    <tr>\n",
       "      <th>111</th>\n",
       "      <td>fhv_tripdata_2022-11.parquet</td>\n",
       "      <td>1,106,084</td>\n",
       "    </tr>\n",
       "    <tr>\n",
       "      <th>78</th>\n",
       "      <td>fhv_tripdata_2023-02.parquet</td>\n",
       "      <td>1,110,797</td>\n",
       "    </tr>\n",
       "    <tr>\n",
       "      <th>77</th>\n",
       "      <td>fhv_tripdata_2023-01.parquet</td>\n",
       "      <td>1,114,320</td>\n",
       "    </tr>\n",
       "    <tr>\n",
       "      <th>23</th>\n",
       "      <td>fhv_tripdata_2020-07.parquet</td>\n",
       "      <td>1,127,489</td>\n",
       "    </tr>\n",
       "    <tr>\n",
       "      <th>101</th>\n",
       "      <td>fhv_tripdata_2022-01.parquet</td>\n",
       "      <td>1,143,691</td>\n",
       "    </tr>\n",
       "    <tr>\n",
       "      <th>108</th>\n",
       "      <td>fhv_tripdata_2022-08.parquet</td>\n",
       "      <td>1,151,155</td>\n",
       "    </tr>\n",
       "  </tbody>\n",
       "</table>\n",
       "</div>"
      ],
      "text/plain": [
       "                        file_name file_num_rows\n",
       "20   fhv_tripdata_2020-04.parquet       566,426\n",
       "21   fhv_tripdata_2020-05.parquet       774,970\n",
       "22   fhv_tripdata_2020-06.parquet     1,011,867\n",
       "42   fhv_tripdata_2021-02.parquet     1,037,692\n",
       "111  fhv_tripdata_2022-11.parquet     1,106,084\n",
       "78   fhv_tripdata_2023-02.parquet     1,110,797\n",
       "77   fhv_tripdata_2023-01.parquet     1,114,320\n",
       "23   fhv_tripdata_2020-07.parquet     1,127,489\n",
       "101  fhv_tripdata_2022-01.parquet     1,143,691\n",
       "108  fhv_tripdata_2022-08.parquet     1,151,155"
      ]
     },
     "execution_count": 16,
     "metadata": {},
     "output_type": "execute_result"
    }
   ],
   "source": [
    "df8 = df[[\"file_name\", \"file_num_rows\"]]\n",
    "df8 = df8.sort_values(by=\"file_num_rows\", ascending=True)\n",
    "df8[\"file_num_rows\"] = df8[\"file_num_rows\"].apply(lambda x: \"{:,d}\".format(x))\n",
    "df8.head(n=10)"
   ]
  },
  {
   "cell_type": "markdown",
   "id": "f7fd7696-e1df-4e40-b746-75ad4faf22a4",
   "metadata": {},
   "source": [
    "### How does column names change in files?"
   ]
  },
  {
   "cell_type": "code",
   "execution_count": 17,
   "id": "e47ac3d0-8dd3-4eb8-8f9b-ef4c87bd106b",
   "metadata": {},
   "outputs": [
    {
     "data": {
      "text/html": [
       "<div>\n",
       "<style scoped>\n",
       "    .dataframe tbody tr th:only-of-type {\n",
       "        vertical-align: middle;\n",
       "    }\n",
       "\n",
       "    .dataframe tbody tr th {\n",
       "        vertical-align: top;\n",
       "    }\n",
       "\n",
       "    .dataframe thead th {\n",
       "        text-align: right;\n",
       "    }\n",
       "</style>\n",
       "<table border=\"1\" class=\"dataframe\">\n",
       "  <thead>\n",
       "    <tr style=\"text-align: right;\">\n",
       "      <th></th>\n",
       "      <th>file_year</th>\n",
       "      <th>file_column_names</th>\n",
       "      <th>num_of_files</th>\n",
       "    </tr>\n",
       "  </thead>\n",
       "  <tbody>\n",
       "    <tr>\n",
       "      <th>0</th>\n",
       "      <td>2015</td>\n",
       "      <td>dispatching_base_num,pickup_datetime,dropOff_datetime,PUlocationID,DOlocationID,SR_Flag,Affiliated_base_number</td>\n",
       "      <td>12</td>\n",
       "    </tr>\n",
       "    <tr>\n",
       "      <th>1</th>\n",
       "      <td>2016</td>\n",
       "      <td>dispatching_base_num,pickup_datetime,dropOff_datetime,PUlocationID,DOlocationID,SR_Flag,Affiliated_base_number</td>\n",
       "      <td>12</td>\n",
       "    </tr>\n",
       "    <tr>\n",
       "      <th>2</th>\n",
       "      <td>2017</td>\n",
       "      <td>dispatching_base_num,pickup_datetime,dropOff_datetime,PUlocationID,DOlocationID,SR_Flag,Affiliated_base_number</td>\n",
       "      <td>12</td>\n",
       "    </tr>\n",
       "    <tr>\n",
       "      <th>3</th>\n",
       "      <td>2018</td>\n",
       "      <td>dispatching_base_num,pickup_datetime,dropOff_datetime,PUlocationID,DOlocationID,SR_Flag,Affiliated_base_number</td>\n",
       "      <td>12</td>\n",
       "    </tr>\n",
       "    <tr>\n",
       "      <th>4</th>\n",
       "      <td>2019</td>\n",
       "      <td>dispatching_base_num,pickup_datetime,dropOff_datetime,PUlocationID,DOlocationID,SR_Flag,Affiliated_base_number</td>\n",
       "      <td>12</td>\n",
       "    </tr>\n",
       "    <tr>\n",
       "      <th>5</th>\n",
       "      <td>2020</td>\n",
       "      <td>dispatching_base_num,pickup_datetime,dropOff_datetime,PUlocationID,DOlocationID,SR_Flag,Affiliated_base_number</td>\n",
       "      <td>12</td>\n",
       "    </tr>\n",
       "    <tr>\n",
       "      <th>6</th>\n",
       "      <td>2021</td>\n",
       "      <td>dispatching_base_num,pickup_datetime,dropOff_datetime,PUlocationID,DOlocationID,SR_Flag,Affiliated_base_number</td>\n",
       "      <td>12</td>\n",
       "    </tr>\n",
       "    <tr>\n",
       "      <th>7</th>\n",
       "      <td>2022</td>\n",
       "      <td>dispatching_base_num,pickup_datetime,dropOff_datetime,PUlocationID,DOlocationID,SR_Flag,Affiliated_base_number</td>\n",
       "      <td>12</td>\n",
       "    </tr>\n",
       "    <tr>\n",
       "      <th>8</th>\n",
       "      <td>2023</td>\n",
       "      <td>dispatching_base_num,pickup_datetime,dropOff_datetime,PUlocationID,DOlocationID,SR_Flag,Affiliated_base_number</td>\n",
       "      <td>12</td>\n",
       "    </tr>\n",
       "    <tr>\n",
       "      <th>9</th>\n",
       "      <td>2024</td>\n",
       "      <td>dispatching_base_num,pickup_datetime,dropOff_datetime,PUlocationID,DOlocationID,SR_Flag,Affiliated_base_number</td>\n",
       "      <td>5</td>\n",
       "    </tr>\n",
       "  </tbody>\n",
       "</table>\n",
       "</div>"
      ],
      "text/plain": [
       "   file_year  \\\n",
       "0       2015   \n",
       "1       2016   \n",
       "2       2017   \n",
       "3       2018   \n",
       "4       2019   \n",
       "5       2020   \n",
       "6       2021   \n",
       "7       2022   \n",
       "8       2023   \n",
       "9       2024   \n",
       "\n",
       "                                                                                                file_column_names  \\\n",
       "0  dispatching_base_num,pickup_datetime,dropOff_datetime,PUlocationID,DOlocationID,SR_Flag,Affiliated_base_number   \n",
       "1  dispatching_base_num,pickup_datetime,dropOff_datetime,PUlocationID,DOlocationID,SR_Flag,Affiliated_base_number   \n",
       "2  dispatching_base_num,pickup_datetime,dropOff_datetime,PUlocationID,DOlocationID,SR_Flag,Affiliated_base_number   \n",
       "3  dispatching_base_num,pickup_datetime,dropOff_datetime,PUlocationID,DOlocationID,SR_Flag,Affiliated_base_number   \n",
       "4  dispatching_base_num,pickup_datetime,dropOff_datetime,PUlocationID,DOlocationID,SR_Flag,Affiliated_base_number   \n",
       "5  dispatching_base_num,pickup_datetime,dropOff_datetime,PUlocationID,DOlocationID,SR_Flag,Affiliated_base_number   \n",
       "6  dispatching_base_num,pickup_datetime,dropOff_datetime,PUlocationID,DOlocationID,SR_Flag,Affiliated_base_number   \n",
       "7  dispatching_base_num,pickup_datetime,dropOff_datetime,PUlocationID,DOlocationID,SR_Flag,Affiliated_base_number   \n",
       "8  dispatching_base_num,pickup_datetime,dropOff_datetime,PUlocationID,DOlocationID,SR_Flag,Affiliated_base_number   \n",
       "9  dispatching_base_num,pickup_datetime,dropOff_datetime,PUlocationID,DOlocationID,SR_Flag,Affiliated_base_number   \n",
       "\n",
       "   num_of_files  \n",
       "0            12  \n",
       "1            12  \n",
       "2            12  \n",
       "3            12  \n",
       "4            12  \n",
       "5            12  \n",
       "6            12  \n",
       "7            12  \n",
       "8            12  \n",
       "9             5  "
      ]
     },
     "execution_count": 17,
     "metadata": {},
     "output_type": "execute_result"
    }
   ],
   "source": [
    "df9 = df[[\"file_year\", \"file_column_names\"]].groupby(by=[\"file_year\", \"file_column_names\"]).size()\n",
    "df9 = df9.reset_index(name=\"num_of_files\")\n",
    "pd.set_option('display.max_colwidth', None)\n",
    "df9"
   ]
  },
  {
   "cell_type": "markdown",
   "id": "f9142714-0dad-45aa-8fbf-e88a70bd8e4b",
   "metadata": {},
   "source": [
    "### How many times a column name appear in files?"
   ]
  },
  {
   "cell_type": "code",
   "execution_count": 18,
   "id": "9e93052b-1bc3-47ff-a80e-a8c6ab9d8880",
   "metadata": {},
   "outputs": [
    {
     "data": {
      "text/html": [
       "<div>\n",
       "<style scoped>\n",
       "    .dataframe tbody tr th:only-of-type {\n",
       "        vertical-align: middle;\n",
       "    }\n",
       "\n",
       "    .dataframe tbody tr th {\n",
       "        vertical-align: top;\n",
       "    }\n",
       "\n",
       "    .dataframe thead th {\n",
       "        text-align: right;\n",
       "    }\n",
       "</style>\n",
       "<table border=\"1\" class=\"dataframe\">\n",
       "  <thead>\n",
       "    <tr style=\"text-align: right;\">\n",
       "      <th></th>\n",
       "      <th>file_column_names</th>\n",
       "      <th>num_of_files</th>\n",
       "    </tr>\n",
       "  </thead>\n",
       "  <tbody>\n",
       "    <tr>\n",
       "      <th>0</th>\n",
       "      <td>Affiliated_base_number</td>\n",
       "      <td>113</td>\n",
       "    </tr>\n",
       "    <tr>\n",
       "      <th>1</th>\n",
       "      <td>DOlocationID</td>\n",
       "      <td>113</td>\n",
       "    </tr>\n",
       "    <tr>\n",
       "      <th>2</th>\n",
       "      <td>PUlocationID</td>\n",
       "      <td>113</td>\n",
       "    </tr>\n",
       "    <tr>\n",
       "      <th>3</th>\n",
       "      <td>SR_Flag</td>\n",
       "      <td>113</td>\n",
       "    </tr>\n",
       "    <tr>\n",
       "      <th>4</th>\n",
       "      <td>dispatching_base_num</td>\n",
       "      <td>113</td>\n",
       "    </tr>\n",
       "    <tr>\n",
       "      <th>5</th>\n",
       "      <td>dropOff_datetime</td>\n",
       "      <td>113</td>\n",
       "    </tr>\n",
       "    <tr>\n",
       "      <th>6</th>\n",
       "      <td>pickup_datetime</td>\n",
       "      <td>113</td>\n",
       "    </tr>\n",
       "  </tbody>\n",
       "</table>\n",
       "</div>"
      ],
      "text/plain": [
       "        file_column_names  num_of_files\n",
       "0  Affiliated_base_number           113\n",
       "1            DOlocationID           113\n",
       "2            PUlocationID           113\n",
       "3                 SR_Flag           113\n",
       "4    dispatching_base_num           113\n",
       "5        dropOff_datetime           113\n",
       "6         pickup_datetime           113"
      ]
     },
     "execution_count": 18,
     "metadata": {},
     "output_type": "execute_result"
    }
   ],
   "source": [
    "df10 = df[\"file_column_names\"].str.split(\",\").explode()\n",
    "df10 = pd.DataFrame(df10)\n",
    "df10 = df10.groupby(by=\"file_column_names\").size()\n",
    "df10 = df10.reset_index(name=\"num_of_files\")\n",
    "df10 = df10.sort_values(by=\"num_of_files\", ascending=False)\n",
    "df10"
   ]
  },
  {
   "cell_type": "markdown",
   "id": "e89cacac-7ccd-4e9b-a0a6-3645f4756164",
   "metadata": {},
   "source": [
    "### Which files have longitude and latitude?"
   ]
  },
  {
   "cell_type": "code",
   "execution_count": 19,
   "id": "d0b7f791-7d67-4411-97fb-298a7efbd0ae",
   "metadata": {},
   "outputs": [
    {
     "data": {
      "text/html": [
       "<div>\n",
       "<style scoped>\n",
       "    .dataframe tbody tr th:only-of-type {\n",
       "        vertical-align: middle;\n",
       "    }\n",
       "\n",
       "    .dataframe tbody tr th {\n",
       "        vertical-align: top;\n",
       "    }\n",
       "\n",
       "    .dataframe thead th {\n",
       "        text-align: right;\n",
       "    }\n",
       "</style>\n",
       "<table border=\"1\" class=\"dataframe\">\n",
       "  <thead>\n",
       "    <tr style=\"text-align: right;\">\n",
       "      <th></th>\n",
       "      <th>file_size_mbs</th>\n",
       "      <th>file_cloudfront_url</th>\n",
       "    </tr>\n",
       "  </thead>\n",
       "  <tbody>\n",
       "  </tbody>\n",
       "</table>\n",
       "</div>"
      ],
      "text/plain": [
       "Empty DataFrame\n",
       "Columns: [file_size_mbs, file_cloudfront_url]\n",
       "Index: []"
      ]
     },
     "execution_count": 19,
     "metadata": {},
     "output_type": "execute_result"
    }
   ],
   "source": [
    "df11 = df[(df[\"file_column_names\"].str.contains(\"long\", case=False) | \n",
    "           df[\"file_column_names\"].str.contains(\"lat\", case=False))]\n",
    "df11 = df11[[\"file_size_mbs\", \"file_cloudfront_url\"]]\n",
    "pd.set_option('display.max_colwidth', None)\n",
    "df11"
   ]
  }
 ],
 "metadata": {
  "kernelspec": {
   "display_name": "Python 3 (ipykernel)",
   "language": "python",
   "name": "python3"
  },
  "language_info": {
   "codemirror_mode": {
    "name": "ipython",
    "version": 3
   },
   "file_extension": ".py",
   "mimetype": "text/x-python",
   "name": "python",
   "nbconvert_exporter": "python",
   "pygments_lexer": "ipython3",
   "version": "3.8.17"
  }
 },
 "nbformat": 4,
 "nbformat_minor": 5
}
