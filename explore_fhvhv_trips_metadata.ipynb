{
 "cells": [
  {
   "cell_type": "markdown",
   "id": "af29406c-c288-4dcd-965f-ef2bc80d346d",
   "metadata": {},
   "source": [
    "# NYC-TLC High Volume For-Hire Vehicle (\"FHVHV\") Trip Metadata Exploration"
   ]
  },
  {
   "cell_type": "markdown",
   "id": "c9c6b72f-6805-46b2-9e5f-814f6b7af484",
   "metadata": {},
   "source": [
    "## Introduction"
   ]
  },
  {
   "cell_type": "markdown",
   "id": "b076982c-f71c-487a-b1f0-41b42ba8ec04",
   "metadata": {},
   "source": [
    "This notebook explore files metadata of [NYC Taxi and Limousine Commission High Volume For-Hire Vehicle (\"FHVHV\") Trip Record Data](https://www.nyc.gov/site/tlc/about/tlc-trip-record-data.page). It may also be used as a base to inform which High Volume For-Hire Vehicle (\"FHVHV\") trip data files to download and use when perform a specific analysis."
   ]
  },
  {
   "cell_type": "markdown",
   "id": "08ee9e52-c382-47a8-8a9b-011bb7b78c3b",
   "metadata": {},
   "source": [
    "### Data Dictionary"
   ]
  },
  {
   "cell_type": "markdown",
   "id": "3b288507-7bc8-4267-afc4-6293f1860beb",
   "metadata": {},
   "source": [
    "Check [Data Dictionary – High Volume For-Hire Vehicle (\"FHVHV\") Taxi Trip Records](https://www.nyc.gov/assets/tlc/downloads/pdf/data_dictionary_trip_records_hvfhs.pdf)"
   ]
  },
  {
   "cell_type": "markdown",
   "id": "70dddc65-f6c5-49da-801e-3e28e85dcddf",
   "metadata": {},
   "source": [
    "## Extracting the Data"
   ]
  },
  {
   "cell_type": "markdown",
   "id": "75b5cc10-6250-46d4-b9ed-55ac59bfa2ee",
   "metadata": {},
   "source": [
    "Change `year` to extract (or update) metadata"
   ]
  },
  {
   "cell_type": "code",
   "execution_count": 1,
   "id": "7c649616-efd2-45b1-82b2-5983c72bd43f",
   "metadata": {},
   "outputs": [],
   "source": [
    "# !python extract_trips_metadata.py -s web -t fhvhv -y 2024"
   ]
  },
  {
   "cell_type": "markdown",
   "id": "b21d8dff-e07b-407b-a83c-1e54f81d1d53",
   "metadata": {},
   "source": [
    "## Loading the Data"
   ]
  },
  {
   "cell_type": "markdown",
   "id": "a6b6c45b-8ee3-4974-a42d-e4d146041c6b",
   "metadata": {},
   "source": [
    "### Import libraries"
   ]
  },
  {
   "cell_type": "code",
   "execution_count": 2,
   "id": "8bcc7283-e972-4033-bf3b-79e7d6e59a4d",
   "metadata": {},
   "outputs": [],
   "source": [
    "import glob\n",
    "import matplotlib.pyplot as plt\n",
    "import pyarrow as pa\n",
    "import pandas as pd\n",
    "\n",
    "from conf import DATASET_LOCAL_METADATA_PATH"
   ]
  },
  {
   "cell_type": "markdown",
   "id": "6aba2361-6ef9-4307-9643-d43379738737",
   "metadata": {},
   "source": [
    "### Load the data"
   ]
  },
  {
   "cell_type": "code",
   "execution_count": 3,
   "id": "a7afc203-6f15-4afb-a1c8-01a0e863a8cd",
   "metadata": {},
   "outputs": [],
   "source": [
    "METADATA_FILES = glob.glob(f\"{DATASET_LOCAL_METADATA_PATH}/fhvhv_tripmetadata_*.csv\")"
   ]
  },
  {
   "cell_type": "code",
   "execution_count": 4,
   "id": "77adbd06-499c-433d-8888-7a533970e2a4",
   "metadata": {},
   "outputs": [],
   "source": [
    "df = pd.concat([pd.read_csv(file) for file in METADATA_FILES], ignore_index=True)"
   ]
  },
  {
   "cell_type": "markdown",
   "id": "491e691e-2c4b-4370-b7ec-8c77de0eb16d",
   "metadata": {},
   "source": [
    "### Print data summary"
   ]
  },
  {
   "cell_type": "code",
   "execution_count": 5,
   "id": "a4b6dcf1-7479-4cdf-a13b-d907db084cab",
   "metadata": {},
   "outputs": [
    {
     "name": "stdout",
     "output_type": "stream",
     "text": [
      "<class 'pandas.core.frame.DataFrame'>\n",
      "RangeIndex: 64 entries, 0 to 63\n",
      "Data columns (total 14 columns):\n",
      " #   Column                  Non-Null Count  Dtype  \n",
      "---  ------                  --------------  -----  \n",
      " 0   file_name               64 non-null     object \n",
      " 1   file_s3_url             64 non-null     object \n",
      " 2   file_cloudfront_url     64 non-null     object \n",
      " 3   file_record_type        64 non-null     object \n",
      " 4   file_year               64 non-null     int64  \n",
      " 5   file_month              64 non-null     int64  \n",
      " 6   file_modification_time  64 non-null     object \n",
      " 7   file_num_rows           64 non-null     int64  \n",
      " 8   file_num_columns        64 non-null     int64  \n",
      " 9   file_column_names       64 non-null     object \n",
      " 10  file_size_bytes         64 non-null     int64  \n",
      " 11  file_size_mbs           64 non-null     float64\n",
      " 12  file_size_gbs           64 non-null     float64\n",
      " 13  file_metadata_source    64 non-null     object \n",
      "dtypes: float64(2), int64(5), object(7)\n",
      "memory usage: 7.1+ KB\n"
     ]
    }
   ],
   "source": [
    "df.info()"
   ]
  },
  {
   "cell_type": "markdown",
   "id": "3bbe226d-b13b-464e-a37b-ece022957ab1",
   "metadata": {},
   "source": [
    "## Exploring the Data"
   ]
  },
  {
   "cell_type": "markdown",
   "id": "43ebd50f-3095-465f-82e4-746cb5f929eb",
   "metadata": {},
   "source": [
    "### What is the total number of all records (rows)?"
   ]
  },
  {
   "cell_type": "code",
   "execution_count": 6,
   "id": "0b3ff0f3-21f1-4949-8788-be60f8a8e5a6",
   "metadata": {},
   "outputs": [
    {
     "name": "stdout",
     "output_type": "stream",
     "text": [
      "1,098,184,332 records.\n"
     ]
    }
   ],
   "source": [
    "print(\"{:,d} records.\".format(df[\"file_num_rows\"].sum()))"
   ]
  },
  {
   "cell_type": "markdown",
   "id": "4a8493f2-11c3-4f97-b3b0-1f392b985477",
   "metadata": {},
   "source": [
    "### What is the total compressed size (GBs) of all records?"
   ]
  },
  {
   "cell_type": "code",
   "execution_count": 7,
   "id": "5959dcce-0e08-44ee-85f9-66968699792c",
   "metadata": {},
   "outputs": [
    {
     "name": "stdout",
     "output_type": "stream",
     "text": [
      "26.0451 GBs.\n"
     ]
    }
   ],
   "source": [
    "print(\"{:,.4f} GBs.\".format(df[\"file_size_gbs\"].sum()))"
   ]
  },
  {
   "cell_type": "markdown",
   "id": "718121bb-5b00-49cc-b49e-1b08882df643",
   "metadata": {},
   "source": [
    "### Which years are covered by all records?"
   ]
  },
  {
   "cell_type": "code",
   "execution_count": 8,
   "id": "8f26ff01-9bc3-468e-90db-498c6c33249f",
   "metadata": {},
   "outputs": [
    {
     "data": {
      "text/html": [
       "<div>\n",
       "<style scoped>\n",
       "    .dataframe tbody tr th:only-of-type {\n",
       "        vertical-align: middle;\n",
       "    }\n",
       "\n",
       "    .dataframe tbody tr th {\n",
       "        vertical-align: top;\n",
       "    }\n",
       "\n",
       "    .dataframe thead th {\n",
       "        text-align: right;\n",
       "    }\n",
       "</style>\n",
       "<table border=\"1\" class=\"dataframe\">\n",
       "  <thead>\n",
       "    <tr style=\"text-align: right;\">\n",
       "      <th></th>\n",
       "      <th>file_year</th>\n",
       "    </tr>\n",
       "  </thead>\n",
       "  <tbody>\n",
       "    <tr>\n",
       "      <th>0</th>\n",
       "      <td>2019</td>\n",
       "    </tr>\n",
       "    <tr>\n",
       "      <th>1</th>\n",
       "      <td>2020</td>\n",
       "    </tr>\n",
       "    <tr>\n",
       "      <th>2</th>\n",
       "      <td>2021</td>\n",
       "    </tr>\n",
       "    <tr>\n",
       "      <th>3</th>\n",
       "      <td>2022</td>\n",
       "    </tr>\n",
       "    <tr>\n",
       "      <th>4</th>\n",
       "      <td>2023</td>\n",
       "    </tr>\n",
       "    <tr>\n",
       "      <th>5</th>\n",
       "      <td>2024</td>\n",
       "    </tr>\n",
       "  </tbody>\n",
       "</table>\n",
       "</div>"
      ],
      "text/plain": [
       "   file_year\n",
       "0       2019\n",
       "1       2020\n",
       "2       2021\n",
       "3       2022\n",
       "4       2023\n",
       "5       2024"
      ]
     },
     "execution_count": 8,
     "metadata": {},
     "output_type": "execute_result"
    }
   ],
   "source": [
    "pd.DataFrame({\"file_year\": sorted(df[\"file_year\"].unique())})"
   ]
  },
  {
   "cell_type": "markdown",
   "id": "51b5a5ca-9ac5-437c-813f-2059830ae209",
   "metadata": {},
   "source": [
    "### What is the total number of records (rows) per each year?"
   ]
  },
  {
   "cell_type": "code",
   "execution_count": 9,
   "id": "c0af5722-971b-4103-9bb3-3e5c9e5f3375",
   "metadata": {},
   "outputs": [
    {
     "data": {
      "text/html": [
       "<div>\n",
       "<style scoped>\n",
       "    .dataframe tbody tr th:only-of-type {\n",
       "        vertical-align: middle;\n",
       "    }\n",
       "\n",
       "    .dataframe tbody tr th {\n",
       "        vertical-align: top;\n",
       "    }\n",
       "\n",
       "    .dataframe thead th {\n",
       "        text-align: right;\n",
       "    }\n",
       "</style>\n",
       "<table border=\"1\" class=\"dataframe\">\n",
       "  <thead>\n",
       "    <tr style=\"text-align: right;\">\n",
       "      <th></th>\n",
       "      <th>file_year</th>\n",
       "      <th>file_num_rows</th>\n",
       "    </tr>\n",
       "  </thead>\n",
       "  <tbody>\n",
       "    <tr>\n",
       "      <th>0</th>\n",
       "      <td>2019</td>\n",
       "      <td>234,630,264</td>\n",
       "    </tr>\n",
       "    <tr>\n",
       "      <th>4</th>\n",
       "      <td>2023</td>\n",
       "      <td>232,490,020</td>\n",
       "    </tr>\n",
       "    <tr>\n",
       "      <th>3</th>\n",
       "      <td>2022</td>\n",
       "      <td>212,416,083</td>\n",
       "    </tr>\n",
       "    <tr>\n",
       "      <th>2</th>\n",
       "      <td>2021</td>\n",
       "      <td>174,596,652</td>\n",
       "    </tr>\n",
       "    <tr>\n",
       "      <th>1</th>\n",
       "      <td>2020</td>\n",
       "      <td>143,309,871</td>\n",
       "    </tr>\n",
       "    <tr>\n",
       "      <th>5</th>\n",
       "      <td>2024</td>\n",
       "      <td>100,741,442</td>\n",
       "    </tr>\n",
       "  </tbody>\n",
       "</table>\n",
       "</div>"
      ],
      "text/plain": [
       "   file_year file_num_rows\n",
       "0       2019   234,630,264\n",
       "4       2023   232,490,020\n",
       "3       2022   212,416,083\n",
       "2       2021   174,596,652\n",
       "1       2020   143,309,871\n",
       "5       2024   100,741,442"
      ]
     },
     "execution_count": 9,
     "metadata": {},
     "output_type": "execute_result"
    }
   ],
   "source": [
    "df2 = df[[\"file_year\", \"file_num_rows\"]].groupby(by=\"file_year\").sum()\n",
    "df2 = df2.reset_index()\n",
    "df2 = df2.sort_values(by=\"file_num_rows\", ascending=False)\n",
    "df2[\"file_num_rows\"] = df2[\"file_num_rows\"].apply(lambda x: \"{:,d}\".format(x))\n",
    "df2"
   ]
  },
  {
   "cell_type": "markdown",
   "id": "147f4d89-0bbf-4965-96a8-7a81ccac061a",
   "metadata": {},
   "source": [
    "### What is the total compressed size (GBs) of records per each year?"
   ]
  },
  {
   "cell_type": "code",
   "execution_count": 10,
   "id": "d70e02ce-fc2d-48f5-9cca-0641158d5917",
   "metadata": {},
   "outputs": [
    {
     "data": {
      "text/html": [
       "<div>\n",
       "<style scoped>\n",
       "    .dataframe tbody tr th:only-of-type {\n",
       "        vertical-align: middle;\n",
       "    }\n",
       "\n",
       "    .dataframe tbody tr th {\n",
       "        vertical-align: top;\n",
       "    }\n",
       "\n",
       "    .dataframe thead th {\n",
       "        text-align: right;\n",
       "    }\n",
       "</style>\n",
       "<table border=\"1\" class=\"dataframe\">\n",
       "  <thead>\n",
       "    <tr style=\"text-align: right;\">\n",
       "      <th></th>\n",
       "      <th>file_year</th>\n",
       "      <th>file_size_gbs</th>\n",
       "    </tr>\n",
       "  </thead>\n",
       "  <tbody>\n",
       "    <tr>\n",
       "      <th>0</th>\n",
       "      <td>2019</td>\n",
       "      <td>5.5982</td>\n",
       "    </tr>\n",
       "    <tr>\n",
       "      <th>4</th>\n",
       "      <td>2023</td>\n",
       "      <td>5.4210</td>\n",
       "    </tr>\n",
       "    <tr>\n",
       "      <th>3</th>\n",
       "      <td>2022</td>\n",
       "      <td>5.0633</td>\n",
       "    </tr>\n",
       "    <tr>\n",
       "      <th>2</th>\n",
       "      <td>2021</td>\n",
       "      <td>4.2411</td>\n",
       "    </tr>\n",
       "    <tr>\n",
       "      <th>1</th>\n",
       "      <td>2020</td>\n",
       "      <td>3.4698</td>\n",
       "    </tr>\n",
       "    <tr>\n",
       "      <th>5</th>\n",
       "      <td>2024</td>\n",
       "      <td>2.2518</td>\n",
       "    </tr>\n",
       "  </tbody>\n",
       "</table>\n",
       "</div>"
      ],
      "text/plain": [
       "   file_year file_size_gbs\n",
       "0       2019        5.5982\n",
       "4       2023        5.4210\n",
       "3       2022        5.0633\n",
       "2       2021        4.2411\n",
       "1       2020        3.4698\n",
       "5       2024        2.2518"
      ]
     },
     "execution_count": 10,
     "metadata": {},
     "output_type": "execute_result"
    }
   ],
   "source": [
    "df3 = df[[\"file_year\", \"file_size_gbs\"]].groupby(by=\"file_year\").sum()\n",
    "df3 = df3.reset_index()\n",
    "df3 = df3.sort_values(by=\"file_size_gbs\", ascending=False)\n",
    "df3[\"file_size_gbs\"] = df3[\"file_size_gbs\"].apply(lambda x: \"{:,.4f}\".format(x))\n",
    "df3"
   ]
  },
  {
   "cell_type": "markdown",
   "id": "f8780662-329c-4111-8604-8e831e13e076",
   "metadata": {},
   "source": [
    "### Describe files compressed sizes (MBs)?"
   ]
  },
  {
   "cell_type": "code",
   "execution_count": 11,
   "id": "6bfaf535-8f12-4d04-9595-7446e86ae7bb",
   "metadata": {},
   "outputs": [
    {
     "data": {
      "text/html": [
       "<div>\n",
       "<style scoped>\n",
       "    .dataframe tbody tr th:only-of-type {\n",
       "        vertical-align: middle;\n",
       "    }\n",
       "\n",
       "    .dataframe tbody tr th {\n",
       "        vertical-align: top;\n",
       "    }\n",
       "\n",
       "    .dataframe thead th {\n",
       "        text-align: right;\n",
       "    }\n",
       "</style>\n",
       "<table border=\"1\" class=\"dataframe\">\n",
       "  <thead>\n",
       "    <tr style=\"text-align: right;\">\n",
       "      <th></th>\n",
       "      <th>count</th>\n",
       "      <th>mean</th>\n",
       "      <th>std</th>\n",
       "      <th>min</th>\n",
       "      <th>25%</th>\n",
       "      <th>50%</th>\n",
       "      <th>75%</th>\n",
       "      <th>max</th>\n",
       "    </tr>\n",
       "  </thead>\n",
       "  <tbody>\n",
       "    <tr>\n",
       "      <th>file_size_mbs</th>\n",
       "      <td>64.0</td>\n",
       "      <td>416.722377</td>\n",
       "      <td>96.300971</td>\n",
       "      <td>109.515195</td>\n",
       "      <td>368.137658</td>\n",
       "      <td>441.92011</td>\n",
       "      <td>478.740239</td>\n",
       "      <td>582.556135</td>\n",
       "    </tr>\n",
       "  </tbody>\n",
       "</table>\n",
       "</div>"
      ],
      "text/plain": [
       "               count        mean        std         min         25%  \\\n",
       "file_size_mbs   64.0  416.722377  96.300971  109.515195  368.137658   \n",
       "\n",
       "                     50%         75%         max  \n",
       "file_size_mbs  441.92011  478.740239  582.556135  "
      ]
     },
     "execution_count": 11,
     "metadata": {},
     "output_type": "execute_result"
    }
   ],
   "source": [
    "df[[\"file_size_mbs\"]].describe().T"
   ]
  },
  {
   "cell_type": "markdown",
   "id": "97de5176-66ed-48bc-b8a9-56545e4590fc",
   "metadata": {},
   "source": [
    "### Which files have largest compressed sizes (MBs)?"
   ]
  },
  {
   "cell_type": "code",
   "execution_count": 12,
   "id": "e59d2a6f-3fc4-4b5f-bfe6-ba184760ee92",
   "metadata": {},
   "outputs": [
    {
     "data": {
      "text/html": [
       "<div>\n",
       "<style scoped>\n",
       "    .dataframe tbody tr th:only-of-type {\n",
       "        vertical-align: middle;\n",
       "    }\n",
       "\n",
       "    .dataframe tbody tr th {\n",
       "        vertical-align: top;\n",
       "    }\n",
       "\n",
       "    .dataframe thead th {\n",
       "        text-align: right;\n",
       "    }\n",
       "</style>\n",
       "<table border=\"1\" class=\"dataframe\">\n",
       "  <thead>\n",
       "    <tr style=\"text-align: right;\">\n",
       "      <th></th>\n",
       "      <th>file_name</th>\n",
       "      <th>file_size_mbs</th>\n",
       "    </tr>\n",
       "  </thead>\n",
       "  <tbody>\n",
       "    <tr>\n",
       "      <th>18</th>\n",
       "      <td>fhvhv_tripdata_2019-03.parquet</td>\n",
       "      <td>582.556135</td>\n",
       "    </tr>\n",
       "    <tr>\n",
       "      <th>27</th>\n",
       "      <td>fhvhv_tripdata_2019-12.parquet</td>\n",
       "      <td>549.935223</td>\n",
       "    </tr>\n",
       "    <tr>\n",
       "      <th>20</th>\n",
       "      <td>fhvhv_tripdata_2019-05.parquet</td>\n",
       "      <td>544.377504</td>\n",
       "    </tr>\n",
       "    <tr>\n",
       "      <th>26</th>\n",
       "      <td>fhvhv_tripdata_2019-11.parquet</td>\n",
       "      <td>535.022415</td>\n",
       "    </tr>\n",
       "    <tr>\n",
       "      <th>19</th>\n",
       "      <td>fhvhv_tripdata_2019-04.parquet</td>\n",
       "      <td>533.730174</td>\n",
       "    </tr>\n",
       "    <tr>\n",
       "      <th>41</th>\n",
       "      <td>fhvhv_tripdata_2020-02.parquet</td>\n",
       "      <td>532.984617</td>\n",
       "    </tr>\n",
       "    <tr>\n",
       "      <th>25</th>\n",
       "      <td>fhvhv_tripdata_2019-10.parquet</td>\n",
       "      <td>523.920382</td>\n",
       "    </tr>\n",
       "    <tr>\n",
       "      <th>21</th>\n",
       "      <td>fhvhv_tripdata_2019-06.parquet</td>\n",
       "      <td>511.352468</td>\n",
       "    </tr>\n",
       "    <tr>\n",
       "      <th>40</th>\n",
       "      <td>fhvhv_tripdata_2020-01.parquet</td>\n",
       "      <td>506.664212</td>\n",
       "    </tr>\n",
       "    <tr>\n",
       "      <th>30</th>\n",
       "      <td>fhvhv_tripdata_2023-03.parquet</td>\n",
       "      <td>498.280401</td>\n",
       "    </tr>\n",
       "  </tbody>\n",
       "</table>\n",
       "</div>"
      ],
      "text/plain": [
       "                         file_name  file_size_mbs\n",
       "18  fhvhv_tripdata_2019-03.parquet     582.556135\n",
       "27  fhvhv_tripdata_2019-12.parquet     549.935223\n",
       "20  fhvhv_tripdata_2019-05.parquet     544.377504\n",
       "26  fhvhv_tripdata_2019-11.parquet     535.022415\n",
       "19  fhvhv_tripdata_2019-04.parquet     533.730174\n",
       "41  fhvhv_tripdata_2020-02.parquet     532.984617\n",
       "25  fhvhv_tripdata_2019-10.parquet     523.920382\n",
       "21  fhvhv_tripdata_2019-06.parquet     511.352468\n",
       "40  fhvhv_tripdata_2020-01.parquet     506.664212\n",
       "30  fhvhv_tripdata_2023-03.parquet     498.280401"
      ]
     },
     "execution_count": 12,
     "metadata": {},
     "output_type": "execute_result"
    }
   ],
   "source": [
    "df5 = df[[\"file_name\", \"file_size_mbs\"]]\n",
    "df5 = df5.sort_values(by=\"file_size_mbs\", ascending=False)\n",
    "df5.head(n=10)"
   ]
  },
  {
   "cell_type": "markdown",
   "id": "78b08ae1-2b0d-44f4-9c5f-fe4f13729094",
   "metadata": {},
   "source": [
    "### Which files have smallest compressed sizes (MBs)?"
   ]
  },
  {
   "cell_type": "code",
   "execution_count": 13,
   "id": "2cef6394-b248-4f19-9072-6fc08f5e82f3",
   "metadata": {},
   "outputs": [
    {
     "data": {
      "text/html": [
       "<div>\n",
       "<style scoped>\n",
       "    .dataframe tbody tr th:only-of-type {\n",
       "        vertical-align: middle;\n",
       "    }\n",
       "\n",
       "    .dataframe tbody tr th {\n",
       "        vertical-align: top;\n",
       "    }\n",
       "\n",
       "    .dataframe thead th {\n",
       "        text-align: right;\n",
       "    }\n",
       "</style>\n",
       "<table border=\"1\" class=\"dataframe\">\n",
       "  <thead>\n",
       "    <tr style=\"text-align: right;\">\n",
       "      <th></th>\n",
       "      <th>file_name</th>\n",
       "      <th>file_size_mbs</th>\n",
       "    </tr>\n",
       "  </thead>\n",
       "  <tbody>\n",
       "    <tr>\n",
       "      <th>43</th>\n",
       "      <td>fhvhv_tripdata_2020-04.parquet</td>\n",
       "      <td>109.515195</td>\n",
       "    </tr>\n",
       "    <tr>\n",
       "      <th>44</th>\n",
       "      <td>fhvhv_tripdata_2020-05.parquet</td>\n",
       "      <td>153.107369</td>\n",
       "    </tr>\n",
       "    <tr>\n",
       "      <th>45</th>\n",
       "      <td>fhvhv_tripdata_2020-06.parquet</td>\n",
       "      <td>188.801557</td>\n",
       "    </tr>\n",
       "    <tr>\n",
       "      <th>46</th>\n",
       "      <td>fhvhv_tripdata_2020-07.parquet</td>\n",
       "      <td>248.196170</td>\n",
       "    </tr>\n",
       "    <tr>\n",
       "      <th>47</th>\n",
       "      <td>fhvhv_tripdata_2020-08.parquet</td>\n",
       "      <td>276.992729</td>\n",
       "    </tr>\n",
       "    <tr>\n",
       "      <th>50</th>\n",
       "      <td>fhvhv_tripdata_2020-11.parquet</td>\n",
       "      <td>287.872459</td>\n",
       "    </tr>\n",
       "    <tr>\n",
       "      <th>53</th>\n",
       "      <td>fhvhv_tripdata_2021-02.parquet</td>\n",
       "      <td>288.613521</td>\n",
       "    </tr>\n",
       "    <tr>\n",
       "      <th>51</th>\n",
       "      <td>fhvhv_tripdata_2020-12.parquet</td>\n",
       "      <td>289.215115</td>\n",
       "    </tr>\n",
       "    <tr>\n",
       "      <th>52</th>\n",
       "      <td>fhvhv_tripdata_2021-01.parquet</td>\n",
       "      <td>294.613778</td>\n",
       "    </tr>\n",
       "    <tr>\n",
       "      <th>48</th>\n",
       "      <td>fhvhv_tripdata_2020-09.parquet</td>\n",
       "      <td>300.111181</td>\n",
       "    </tr>\n",
       "  </tbody>\n",
       "</table>\n",
       "</div>"
      ],
      "text/plain": [
       "                         file_name  file_size_mbs\n",
       "43  fhvhv_tripdata_2020-04.parquet     109.515195\n",
       "44  fhvhv_tripdata_2020-05.parquet     153.107369\n",
       "45  fhvhv_tripdata_2020-06.parquet     188.801557\n",
       "46  fhvhv_tripdata_2020-07.parquet     248.196170\n",
       "47  fhvhv_tripdata_2020-08.parquet     276.992729\n",
       "50  fhvhv_tripdata_2020-11.parquet     287.872459\n",
       "53  fhvhv_tripdata_2021-02.parquet     288.613521\n",
       "51  fhvhv_tripdata_2020-12.parquet     289.215115\n",
       "52  fhvhv_tripdata_2021-01.parquet     294.613778\n",
       "48  fhvhv_tripdata_2020-09.parquet     300.111181"
      ]
     },
     "execution_count": 13,
     "metadata": {},
     "output_type": "execute_result"
    }
   ],
   "source": [
    "df6 = df[[\"file_name\", \"file_size_mbs\"]]\n",
    "df6 = df6.sort_values(by=\"file_size_mbs\", ascending=True)\n",
    "df6.head(n=10)"
   ]
  },
  {
   "cell_type": "markdown",
   "id": "02dba8e4-964d-47ff-8693-4c5120cc18e5",
   "metadata": {},
   "source": [
    "### Describe files number of records (rows)?"
   ]
  },
  {
   "cell_type": "code",
   "execution_count": 14,
   "id": "a20e9196-a34e-4ff2-a843-65f3c80060f7",
   "metadata": {},
   "outputs": [
    {
     "data": {
      "text/html": [
       "<div>\n",
       "<style scoped>\n",
       "    .dataframe tbody tr th:only-of-type {\n",
       "        vertical-align: middle;\n",
       "    }\n",
       "\n",
       "    .dataframe tbody tr th {\n",
       "        vertical-align: top;\n",
       "    }\n",
       "\n",
       "    .dataframe thead th {\n",
       "        text-align: right;\n",
       "    }\n",
       "</style>\n",
       "<table border=\"1\" class=\"dataframe\">\n",
       "  <thead>\n",
       "    <tr style=\"text-align: right;\">\n",
       "      <th></th>\n",
       "      <th>count</th>\n",
       "      <th>mean</th>\n",
       "      <th>std</th>\n",
       "      <th>min</th>\n",
       "      <th>25%</th>\n",
       "      <th>50%</th>\n",
       "      <th>75%</th>\n",
       "      <th>max</th>\n",
       "    </tr>\n",
       "  </thead>\n",
       "  <tbody>\n",
       "    <tr>\n",
       "      <th>file_num_rows</th>\n",
       "      <td>64.0</td>\n",
       "      <td>1.715913e+07</td>\n",
       "      <td>4.112863e+06</td>\n",
       "      <td>4312909.0</td>\n",
       "      <td>14743486.0</td>\n",
       "      <td>18239742.5</td>\n",
       "      <td>20134360.25</td>\n",
       "      <td>23864598.0</td>\n",
       "    </tr>\n",
       "  </tbody>\n",
       "</table>\n",
       "</div>"
      ],
      "text/plain": [
       "               count          mean           std        min         25%  \\\n",
       "file_num_rows   64.0  1.715913e+07  4.112863e+06  4312909.0  14743486.0   \n",
       "\n",
       "                      50%          75%         max  \n",
       "file_num_rows  18239742.5  20134360.25  23864598.0  "
      ]
     },
     "execution_count": 14,
     "metadata": {},
     "output_type": "execute_result"
    }
   ],
   "source": [
    "df[[\"file_num_rows\"]].describe().T"
   ]
  },
  {
   "cell_type": "markdown",
   "id": "25864aee-017e-48d8-8f30-ba9b8a9774d1",
   "metadata": {},
   "source": [
    "### Which files have largest number of records (rows)?"
   ]
  },
  {
   "cell_type": "code",
   "execution_count": 15,
   "id": "31492964-0f8a-4801-9c57-2c889d93f6df",
   "metadata": {},
   "outputs": [
    {
     "data": {
      "text/html": [
       "<div>\n",
       "<style scoped>\n",
       "    .dataframe tbody tr th:only-of-type {\n",
       "        vertical-align: middle;\n",
       "    }\n",
       "\n",
       "    .dataframe tbody tr th {\n",
       "        vertical-align: top;\n",
       "    }\n",
       "\n",
       "    .dataframe thead th {\n",
       "        text-align: right;\n",
       "    }\n",
       "</style>\n",
       "<table border=\"1\" class=\"dataframe\">\n",
       "  <thead>\n",
       "    <tr style=\"text-align: right;\">\n",
       "      <th></th>\n",
       "      <th>file_name</th>\n",
       "      <th>file_num_rows</th>\n",
       "    </tr>\n",
       "  </thead>\n",
       "  <tbody>\n",
       "    <tr>\n",
       "      <th>18</th>\n",
       "      <td>fhvhv_tripdata_2019-03.parquet</td>\n",
       "      <td>23,864,598</td>\n",
       "    </tr>\n",
       "    <tr>\n",
       "      <th>20</th>\n",
       "      <td>fhvhv_tripdata_2019-05.parquet</td>\n",
       "      <td>22,329,247</td>\n",
       "    </tr>\n",
       "    <tr>\n",
       "      <th>27</th>\n",
       "      <td>fhvhv_tripdata_2019-12.parquet</td>\n",
       "      <td>22,243,901</td>\n",
       "    </tr>\n",
       "    <tr>\n",
       "      <th>19</th>\n",
       "      <td>fhvhv_tripdata_2019-04.parquet</td>\n",
       "      <td>21,734,822</td>\n",
       "    </tr>\n",
       "    <tr>\n",
       "      <th>41</th>\n",
       "      <td>fhvhv_tripdata_2020-02.parquet</td>\n",
       "      <td>21,725,100</td>\n",
       "    </tr>\n",
       "    <tr>\n",
       "      <th>26</th>\n",
       "      <td>fhvhv_tripdata_2019-11.parquet</td>\n",
       "      <td>21,635,568</td>\n",
       "    </tr>\n",
       "    <tr>\n",
       "      <th>14</th>\n",
       "      <td>fhvhv_tripdata_2024-03.parquet</td>\n",
       "      <td>21,280,788</td>\n",
       "    </tr>\n",
       "    <tr>\n",
       "      <th>25</th>\n",
       "      <td>fhvhv_tripdata_2019-10.parquet</td>\n",
       "      <td>21,162,290</td>\n",
       "    </tr>\n",
       "    <tr>\n",
       "      <th>21</th>\n",
       "      <td>fhvhv_tripdata_2019-06.parquet</td>\n",
       "      <td>21,001,990</td>\n",
       "    </tr>\n",
       "    <tr>\n",
       "      <th>16</th>\n",
       "      <td>fhvhv_tripdata_2024-05.parquet</td>\n",
       "      <td>20,704,538</td>\n",
       "    </tr>\n",
       "  </tbody>\n",
       "</table>\n",
       "</div>"
      ],
      "text/plain": [
       "                         file_name file_num_rows\n",
       "18  fhvhv_tripdata_2019-03.parquet    23,864,598\n",
       "20  fhvhv_tripdata_2019-05.parquet    22,329,247\n",
       "27  fhvhv_tripdata_2019-12.parquet    22,243,901\n",
       "19  fhvhv_tripdata_2019-04.parquet    21,734,822\n",
       "41  fhvhv_tripdata_2020-02.parquet    21,725,100\n",
       "26  fhvhv_tripdata_2019-11.parquet    21,635,568\n",
       "14  fhvhv_tripdata_2024-03.parquet    21,280,788\n",
       "25  fhvhv_tripdata_2019-10.parquet    21,162,290\n",
       "21  fhvhv_tripdata_2019-06.parquet    21,001,990\n",
       "16  fhvhv_tripdata_2024-05.parquet    20,704,538"
      ]
     },
     "execution_count": 15,
     "metadata": {},
     "output_type": "execute_result"
    }
   ],
   "source": [
    "df7 = df[[\"file_name\", \"file_num_rows\"]]\n",
    "df7 = df7.sort_values(by=\"file_num_rows\", ascending=False)\n",
    "df7[\"file_num_rows\"] = df7[\"file_num_rows\"].apply(lambda x: \"{:,d}\".format(x))\n",
    "df7.head(n=10)"
   ]
  },
  {
   "cell_type": "markdown",
   "id": "903ce3a2-c22c-4ef7-a2eb-f80f169cfc73",
   "metadata": {},
   "source": [
    "### Which files have smallest number of records (rows)?"
   ]
  },
  {
   "cell_type": "code",
   "execution_count": 16,
   "id": "a1b38eb6-91aa-4618-921e-aee776897625",
   "metadata": {},
   "outputs": [
    {
     "data": {
      "text/html": [
       "<div>\n",
       "<style scoped>\n",
       "    .dataframe tbody tr th:only-of-type {\n",
       "        vertical-align: middle;\n",
       "    }\n",
       "\n",
       "    .dataframe tbody tr th {\n",
       "        vertical-align: top;\n",
       "    }\n",
       "\n",
       "    .dataframe thead th {\n",
       "        text-align: right;\n",
       "    }\n",
       "</style>\n",
       "<table border=\"1\" class=\"dataframe\">\n",
       "  <thead>\n",
       "    <tr style=\"text-align: right;\">\n",
       "      <th></th>\n",
       "      <th>file_name</th>\n",
       "      <th>file_num_rows</th>\n",
       "    </tr>\n",
       "  </thead>\n",
       "  <tbody>\n",
       "    <tr>\n",
       "      <th>43</th>\n",
       "      <td>fhvhv_tripdata_2020-04.parquet</td>\n",
       "      <td>4,312,909</td>\n",
       "    </tr>\n",
       "    <tr>\n",
       "      <th>44</th>\n",
       "      <td>fhvhv_tripdata_2020-05.parquet</td>\n",
       "      <td>6,089,999</td>\n",
       "    </tr>\n",
       "    <tr>\n",
       "      <th>45</th>\n",
       "      <td>fhvhv_tripdata_2020-06.parquet</td>\n",
       "      <td>7,555,193</td>\n",
       "    </tr>\n",
       "    <tr>\n",
       "      <th>46</th>\n",
       "      <td>fhvhv_tripdata_2020-07.parquet</td>\n",
       "      <td>9,958,454</td>\n",
       "    </tr>\n",
       "    <tr>\n",
       "      <th>47</th>\n",
       "      <td>fhvhv_tripdata_2020-08.parquet</td>\n",
       "      <td>11,096,852</td>\n",
       "    </tr>\n",
       "    <tr>\n",
       "      <th>50</th>\n",
       "      <td>fhvhv_tripdata_2020-11.parquet</td>\n",
       "      <td>11,596,865</td>\n",
       "    </tr>\n",
       "    <tr>\n",
       "      <th>53</th>\n",
       "      <td>fhvhv_tripdata_2021-02.parquet</td>\n",
       "      <td>11,613,942</td>\n",
       "    </tr>\n",
       "    <tr>\n",
       "      <th>51</th>\n",
       "      <td>fhvhv_tripdata_2020-12.parquet</td>\n",
       "      <td>11,637,123</td>\n",
       "    </tr>\n",
       "    <tr>\n",
       "      <th>52</th>\n",
       "      <td>fhvhv_tripdata_2021-01.parquet</td>\n",
       "      <td>11,908,468</td>\n",
       "    </tr>\n",
       "    <tr>\n",
       "      <th>48</th>\n",
       "      <td>fhvhv_tripdata_2020-09.parquet</td>\n",
       "      <td>12,106,669</td>\n",
       "    </tr>\n",
       "  </tbody>\n",
       "</table>\n",
       "</div>"
      ],
      "text/plain": [
       "                         file_name file_num_rows\n",
       "43  fhvhv_tripdata_2020-04.parquet     4,312,909\n",
       "44  fhvhv_tripdata_2020-05.parquet     6,089,999\n",
       "45  fhvhv_tripdata_2020-06.parquet     7,555,193\n",
       "46  fhvhv_tripdata_2020-07.parquet     9,958,454\n",
       "47  fhvhv_tripdata_2020-08.parquet    11,096,852\n",
       "50  fhvhv_tripdata_2020-11.parquet    11,596,865\n",
       "53  fhvhv_tripdata_2021-02.parquet    11,613,942\n",
       "51  fhvhv_tripdata_2020-12.parquet    11,637,123\n",
       "52  fhvhv_tripdata_2021-01.parquet    11,908,468\n",
       "48  fhvhv_tripdata_2020-09.parquet    12,106,669"
      ]
     },
     "execution_count": 16,
     "metadata": {},
     "output_type": "execute_result"
    }
   ],
   "source": [
    "df8 = df[[\"file_name\", \"file_num_rows\"]]\n",
    "df8 = df8.sort_values(by=\"file_num_rows\", ascending=True)\n",
    "df8[\"file_num_rows\"] = df8[\"file_num_rows\"].apply(lambda x: \"{:,d}\".format(x))\n",
    "df8.head(n=10)"
   ]
  },
  {
   "cell_type": "markdown",
   "id": "f7fd7696-e1df-4e40-b746-75ad4faf22a4",
   "metadata": {},
   "source": [
    "### How does column names change in files?"
   ]
  },
  {
   "cell_type": "code",
   "execution_count": 17,
   "id": "e47ac3d0-8dd3-4eb8-8f9b-ef4c87bd106b",
   "metadata": {},
   "outputs": [
    {
     "data": {
      "text/html": [
       "<div>\n",
       "<style scoped>\n",
       "    .dataframe tbody tr th:only-of-type {\n",
       "        vertical-align: middle;\n",
       "    }\n",
       "\n",
       "    .dataframe tbody tr th {\n",
       "        vertical-align: top;\n",
       "    }\n",
       "\n",
       "    .dataframe thead th {\n",
       "        text-align: right;\n",
       "    }\n",
       "</style>\n",
       "<table border=\"1\" class=\"dataframe\">\n",
       "  <thead>\n",
       "    <tr style=\"text-align: right;\">\n",
       "      <th></th>\n",
       "      <th>file_year</th>\n",
       "      <th>file_column_names</th>\n",
       "      <th>num_of_files</th>\n",
       "    </tr>\n",
       "  </thead>\n",
       "  <tbody>\n",
       "    <tr>\n",
       "      <th>0</th>\n",
       "      <td>2019</td>\n",
       "      <td>hvfhs_license_num,dispatching_base_num,originating_base_num,request_datetime,on_scene_datetime,pickup_datetime,dropoff_datetime,PULocationID,DOLocationID,trip_miles,trip_time,base_passenger_fare,tolls,bcf,sales_tax,congestion_surcharge,airport_fee,tips,driver_pay,shared_request_flag,shared_match_flag,access_a_ride_flag,wav_request_flag,wav_match_flag</td>\n",
       "      <td>11</td>\n",
       "    </tr>\n",
       "    <tr>\n",
       "      <th>1</th>\n",
       "      <td>2020</td>\n",
       "      <td>hvfhs_license_num,dispatching_base_num,originating_base_num,request_datetime,on_scene_datetime,pickup_datetime,dropoff_datetime,PULocationID,DOLocationID,trip_miles,trip_time,base_passenger_fare,tolls,bcf,sales_tax,congestion_surcharge,airport_fee,tips,driver_pay,shared_request_flag,shared_match_flag,access_a_ride_flag,wav_request_flag,wav_match_flag</td>\n",
       "      <td>12</td>\n",
       "    </tr>\n",
       "    <tr>\n",
       "      <th>2</th>\n",
       "      <td>2021</td>\n",
       "      <td>hvfhs_license_num,dispatching_base_num,originating_base_num,request_datetime,on_scene_datetime,pickup_datetime,dropoff_datetime,PULocationID,DOLocationID,trip_miles,trip_time,base_passenger_fare,tolls,bcf,sales_tax,congestion_surcharge,airport_fee,tips,driver_pay,shared_request_flag,shared_match_flag,access_a_ride_flag,wav_request_flag,wav_match_flag</td>\n",
       "      <td>12</td>\n",
       "    </tr>\n",
       "    <tr>\n",
       "      <th>3</th>\n",
       "      <td>2022</td>\n",
       "      <td>hvfhs_license_num,dispatching_base_num,originating_base_num,request_datetime,on_scene_datetime,pickup_datetime,dropoff_datetime,PULocationID,DOLocationID,trip_miles,trip_time,base_passenger_fare,tolls,bcf,sales_tax,congestion_surcharge,airport_fee,tips,driver_pay,shared_request_flag,shared_match_flag,access_a_ride_flag,wav_request_flag,wav_match_flag</td>\n",
       "      <td>12</td>\n",
       "    </tr>\n",
       "    <tr>\n",
       "      <th>4</th>\n",
       "      <td>2023</td>\n",
       "      <td>hvfhs_license_num,dispatching_base_num,originating_base_num,request_datetime,on_scene_datetime,pickup_datetime,dropoff_datetime,PULocationID,DOLocationID,trip_miles,trip_time,base_passenger_fare,tolls,bcf,sales_tax,congestion_surcharge,airport_fee,tips,driver_pay,shared_request_flag,shared_match_flag,access_a_ride_flag,wav_request_flag,wav_match_flag</td>\n",
       "      <td>12</td>\n",
       "    </tr>\n",
       "    <tr>\n",
       "      <th>5</th>\n",
       "      <td>2024</td>\n",
       "      <td>hvfhs_license_num,dispatching_base_num,originating_base_num,request_datetime,on_scene_datetime,pickup_datetime,dropoff_datetime,PULocationID,DOLocationID,trip_miles,trip_time,base_passenger_fare,tolls,bcf,sales_tax,congestion_surcharge,airport_fee,tips,driver_pay,shared_request_flag,shared_match_flag,access_a_ride_flag,wav_request_flag,wav_match_flag</td>\n",
       "      <td>5</td>\n",
       "    </tr>\n",
       "  </tbody>\n",
       "</table>\n",
       "</div>"
      ],
      "text/plain": [
       "   file_year  \\\n",
       "0       2019   \n",
       "1       2020   \n",
       "2       2021   \n",
       "3       2022   \n",
       "4       2023   \n",
       "5       2024   \n",
       "\n",
       "                                                                                                                                                                                                                                                                                                                                                  file_column_names  \\\n",
       "0  hvfhs_license_num,dispatching_base_num,originating_base_num,request_datetime,on_scene_datetime,pickup_datetime,dropoff_datetime,PULocationID,DOLocationID,trip_miles,trip_time,base_passenger_fare,tolls,bcf,sales_tax,congestion_surcharge,airport_fee,tips,driver_pay,shared_request_flag,shared_match_flag,access_a_ride_flag,wav_request_flag,wav_match_flag   \n",
       "1  hvfhs_license_num,dispatching_base_num,originating_base_num,request_datetime,on_scene_datetime,pickup_datetime,dropoff_datetime,PULocationID,DOLocationID,trip_miles,trip_time,base_passenger_fare,tolls,bcf,sales_tax,congestion_surcharge,airport_fee,tips,driver_pay,shared_request_flag,shared_match_flag,access_a_ride_flag,wav_request_flag,wav_match_flag   \n",
       "2  hvfhs_license_num,dispatching_base_num,originating_base_num,request_datetime,on_scene_datetime,pickup_datetime,dropoff_datetime,PULocationID,DOLocationID,trip_miles,trip_time,base_passenger_fare,tolls,bcf,sales_tax,congestion_surcharge,airport_fee,tips,driver_pay,shared_request_flag,shared_match_flag,access_a_ride_flag,wav_request_flag,wav_match_flag   \n",
       "3  hvfhs_license_num,dispatching_base_num,originating_base_num,request_datetime,on_scene_datetime,pickup_datetime,dropoff_datetime,PULocationID,DOLocationID,trip_miles,trip_time,base_passenger_fare,tolls,bcf,sales_tax,congestion_surcharge,airport_fee,tips,driver_pay,shared_request_flag,shared_match_flag,access_a_ride_flag,wav_request_flag,wav_match_flag   \n",
       "4  hvfhs_license_num,dispatching_base_num,originating_base_num,request_datetime,on_scene_datetime,pickup_datetime,dropoff_datetime,PULocationID,DOLocationID,trip_miles,trip_time,base_passenger_fare,tolls,bcf,sales_tax,congestion_surcharge,airport_fee,tips,driver_pay,shared_request_flag,shared_match_flag,access_a_ride_flag,wav_request_flag,wav_match_flag   \n",
       "5  hvfhs_license_num,dispatching_base_num,originating_base_num,request_datetime,on_scene_datetime,pickup_datetime,dropoff_datetime,PULocationID,DOLocationID,trip_miles,trip_time,base_passenger_fare,tolls,bcf,sales_tax,congestion_surcharge,airport_fee,tips,driver_pay,shared_request_flag,shared_match_flag,access_a_ride_flag,wav_request_flag,wav_match_flag   \n",
       "\n",
       "   num_of_files  \n",
       "0            11  \n",
       "1            12  \n",
       "2            12  \n",
       "3            12  \n",
       "4            12  \n",
       "5             5  "
      ]
     },
     "execution_count": 17,
     "metadata": {},
     "output_type": "execute_result"
    }
   ],
   "source": [
    "df9 = df[[\"file_year\", \"file_column_names\"]].groupby(by=[\"file_year\", \"file_column_names\"]).size()\n",
    "df9 = df9.reset_index(name=\"num_of_files\")\n",
    "pd.set_option('display.max_colwidth', None)\n",
    "df9"
   ]
  },
  {
   "cell_type": "markdown",
   "id": "f9142714-0dad-45aa-8fbf-e88a70bd8e4b",
   "metadata": {},
   "source": [
    "### How many times a column name appear in files?"
   ]
  },
  {
   "cell_type": "code",
   "execution_count": 18,
   "id": "9e93052b-1bc3-47ff-a80e-a8c6ab9d8880",
   "metadata": {},
   "outputs": [
    {
     "data": {
      "text/html": [
       "<div>\n",
       "<style scoped>\n",
       "    .dataframe tbody tr th:only-of-type {\n",
       "        vertical-align: middle;\n",
       "    }\n",
       "\n",
       "    .dataframe tbody tr th {\n",
       "        vertical-align: top;\n",
       "    }\n",
       "\n",
       "    .dataframe thead th {\n",
       "        text-align: right;\n",
       "    }\n",
       "</style>\n",
       "<table border=\"1\" class=\"dataframe\">\n",
       "  <thead>\n",
       "    <tr style=\"text-align: right;\">\n",
       "      <th></th>\n",
       "      <th>file_column_names</th>\n",
       "      <th>num_of_files</th>\n",
       "    </tr>\n",
       "  </thead>\n",
       "  <tbody>\n",
       "    <tr>\n",
       "      <th>0</th>\n",
       "      <td>DOLocationID</td>\n",
       "      <td>64</td>\n",
       "    </tr>\n",
       "    <tr>\n",
       "      <th>1</th>\n",
       "      <td>PULocationID</td>\n",
       "      <td>64</td>\n",
       "    </tr>\n",
       "    <tr>\n",
       "      <th>22</th>\n",
       "      <td>wav_match_flag</td>\n",
       "      <td>64</td>\n",
       "    </tr>\n",
       "    <tr>\n",
       "      <th>21</th>\n",
       "      <td>trip_time</td>\n",
       "      <td>64</td>\n",
       "    </tr>\n",
       "    <tr>\n",
       "      <th>20</th>\n",
       "      <td>trip_miles</td>\n",
       "      <td>64</td>\n",
       "    </tr>\n",
       "    <tr>\n",
       "      <th>19</th>\n",
       "      <td>tolls</td>\n",
       "      <td>64</td>\n",
       "    </tr>\n",
       "    <tr>\n",
       "      <th>18</th>\n",
       "      <td>tips</td>\n",
       "      <td>64</td>\n",
       "    </tr>\n",
       "    <tr>\n",
       "      <th>17</th>\n",
       "      <td>shared_request_flag</td>\n",
       "      <td>64</td>\n",
       "    </tr>\n",
       "    <tr>\n",
       "      <th>16</th>\n",
       "      <td>shared_match_flag</td>\n",
       "      <td>64</td>\n",
       "    </tr>\n",
       "    <tr>\n",
       "      <th>15</th>\n",
       "      <td>sales_tax</td>\n",
       "      <td>64</td>\n",
       "    </tr>\n",
       "    <tr>\n",
       "      <th>14</th>\n",
       "      <td>request_datetime</td>\n",
       "      <td>64</td>\n",
       "    </tr>\n",
       "    <tr>\n",
       "      <th>13</th>\n",
       "      <td>pickup_datetime</td>\n",
       "      <td>64</td>\n",
       "    </tr>\n",
       "    <tr>\n",
       "      <th>12</th>\n",
       "      <td>originating_base_num</td>\n",
       "      <td>64</td>\n",
       "    </tr>\n",
       "    <tr>\n",
       "      <th>11</th>\n",
       "      <td>on_scene_datetime</td>\n",
       "      <td>64</td>\n",
       "    </tr>\n",
       "    <tr>\n",
       "      <th>10</th>\n",
       "      <td>hvfhs_license_num</td>\n",
       "      <td>64</td>\n",
       "    </tr>\n",
       "    <tr>\n",
       "      <th>9</th>\n",
       "      <td>dropoff_datetime</td>\n",
       "      <td>64</td>\n",
       "    </tr>\n",
       "    <tr>\n",
       "      <th>8</th>\n",
       "      <td>driver_pay</td>\n",
       "      <td>64</td>\n",
       "    </tr>\n",
       "    <tr>\n",
       "      <th>7</th>\n",
       "      <td>dispatching_base_num</td>\n",
       "      <td>64</td>\n",
       "    </tr>\n",
       "    <tr>\n",
       "      <th>6</th>\n",
       "      <td>congestion_surcharge</td>\n",
       "      <td>64</td>\n",
       "    </tr>\n",
       "    <tr>\n",
       "      <th>5</th>\n",
       "      <td>bcf</td>\n",
       "      <td>64</td>\n",
       "    </tr>\n",
       "    <tr>\n",
       "      <th>4</th>\n",
       "      <td>base_passenger_fare</td>\n",
       "      <td>64</td>\n",
       "    </tr>\n",
       "    <tr>\n",
       "      <th>3</th>\n",
       "      <td>airport_fee</td>\n",
       "      <td>64</td>\n",
       "    </tr>\n",
       "    <tr>\n",
       "      <th>2</th>\n",
       "      <td>access_a_ride_flag</td>\n",
       "      <td>64</td>\n",
       "    </tr>\n",
       "    <tr>\n",
       "      <th>23</th>\n",
       "      <td>wav_request_flag</td>\n",
       "      <td>64</td>\n",
       "    </tr>\n",
       "  </tbody>\n",
       "</table>\n",
       "</div>"
      ],
      "text/plain": [
       "       file_column_names  num_of_files\n",
       "0           DOLocationID            64\n",
       "1           PULocationID            64\n",
       "22        wav_match_flag            64\n",
       "21             trip_time            64\n",
       "20            trip_miles            64\n",
       "19                 tolls            64\n",
       "18                  tips            64\n",
       "17   shared_request_flag            64\n",
       "16     shared_match_flag            64\n",
       "15             sales_tax            64\n",
       "14      request_datetime            64\n",
       "13       pickup_datetime            64\n",
       "12  originating_base_num            64\n",
       "11     on_scene_datetime            64\n",
       "10     hvfhs_license_num            64\n",
       "9       dropoff_datetime            64\n",
       "8             driver_pay            64\n",
       "7   dispatching_base_num            64\n",
       "6   congestion_surcharge            64\n",
       "5                    bcf            64\n",
       "4    base_passenger_fare            64\n",
       "3            airport_fee            64\n",
       "2     access_a_ride_flag            64\n",
       "23      wav_request_flag            64"
      ]
     },
     "execution_count": 18,
     "metadata": {},
     "output_type": "execute_result"
    }
   ],
   "source": [
    "df10 = df[\"file_column_names\"].str.split(\",\").explode()\n",
    "df10 = pd.DataFrame(df10)\n",
    "df10 = df10.groupby(by=\"file_column_names\").size()\n",
    "df10 = df10.reset_index(name=\"num_of_files\")\n",
    "df10 = df10.sort_values(by=\"num_of_files\", ascending=False)\n",
    "df10"
   ]
  },
  {
   "cell_type": "markdown",
   "id": "e89cacac-7ccd-4e9b-a0a6-3645f4756164",
   "metadata": {},
   "source": [
    "### Which files have longitude and latitude?"
   ]
  },
  {
   "cell_type": "code",
   "execution_count": 19,
   "id": "d0b7f791-7d67-4411-97fb-298a7efbd0ae",
   "metadata": {},
   "outputs": [
    {
     "data": {
      "text/html": [
       "<div>\n",
       "<style scoped>\n",
       "    .dataframe tbody tr th:only-of-type {\n",
       "        vertical-align: middle;\n",
       "    }\n",
       "\n",
       "    .dataframe tbody tr th {\n",
       "        vertical-align: top;\n",
       "    }\n",
       "\n",
       "    .dataframe thead th {\n",
       "        text-align: right;\n",
       "    }\n",
       "</style>\n",
       "<table border=\"1\" class=\"dataframe\">\n",
       "  <thead>\n",
       "    <tr style=\"text-align: right;\">\n",
       "      <th></th>\n",
       "      <th>file_size_mbs</th>\n",
       "      <th>file_cloudfront_url</th>\n",
       "    </tr>\n",
       "  </thead>\n",
       "  <tbody>\n",
       "  </tbody>\n",
       "</table>\n",
       "</div>"
      ],
      "text/plain": [
       "Empty DataFrame\n",
       "Columns: [file_size_mbs, file_cloudfront_url]\n",
       "Index: []"
      ]
     },
     "execution_count": 19,
     "metadata": {},
     "output_type": "execute_result"
    }
   ],
   "source": [
    "df11 = df[(df[\"file_column_names\"].str.contains(\"long\", case=False) | \n",
    "           df[\"file_column_names\"].str.contains(\"lat\", case=False))]\n",
    "df11 = df11[[\"file_size_mbs\", \"file_cloudfront_url\"]]\n",
    "pd.set_option('display.max_colwidth', None)\n",
    "df11"
   ]
  }
 ],
 "metadata": {
  "kernelspec": {
   "display_name": "Python 3 (ipykernel)",
   "language": "python",
   "name": "python3"
  },
  "language_info": {
   "codemirror_mode": {
    "name": "ipython",
    "version": 3
   },
   "file_extension": ".py",
   "mimetype": "text/x-python",
   "name": "python",
   "nbconvert_exporter": "python",
   "pygments_lexer": "ipython3",
   "version": "3.8.17"
  }
 },
 "nbformat": 4,
 "nbformat_minor": 5
}
